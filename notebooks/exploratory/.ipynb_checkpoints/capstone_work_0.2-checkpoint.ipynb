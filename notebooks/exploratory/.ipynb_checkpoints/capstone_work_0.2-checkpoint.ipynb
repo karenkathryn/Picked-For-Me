{
 "cells": [
  {
   "cell_type": "markdown",
   "metadata": {},
   "source": [
    "# Preliminary steps"
   ]
  },
  {
   "cell_type": "markdown",
   "metadata": {},
   "source": [
    "### Import dependencies"
   ]
  },
  {
   "cell_type": "code",
   "execution_count": 1,
   "metadata": {},
   "outputs": [],
   "source": [
    "import pandas as pd\n",
    "from pandas.core.common import flatten\n",
    "import sklearn.metrics\n",
    "from sklearn.feature_extraction.text import CountVectorizer\n",
    "from sklearn.feature_extraction.text import TfidfVectorizer\n",
    "import nltk\n",
    "from nltk.corpus import stopwords\n",
    "from nltk import SnowballStemmer as snow"
   ]
  },
  {
   "cell_type": "markdown",
   "metadata": {},
   "source": [
    "### Load file as a dataframe"
   ]
  },
  {
   "cell_type": "code",
   "execution_count": 2,
   "metadata": {},
   "outputs": [],
   "source": [
    "file = '/Users/karenwarmbein/ds/capstone/data/raw/RAW_recipes.csv'\n",
    "df = pd.read_csv(file)"
   ]
  },
  {
   "cell_type": "markdown",
   "metadata": {},
   "source": [
    "# EDA"
   ]
  },
  {
   "cell_type": "markdown",
   "metadata": {},
   "source": [
    "### Explore the data"
   ]
  },
  {
   "cell_type": "code",
   "execution_count": 3,
   "metadata": {},
   "outputs": [
    {
     "name": "stdout",
     "output_type": "stream",
     "text": [
      "There are 231637 rows (recipes) in the dataframe.\n"
     ]
    }
   ],
   "source": [
    "print(f\"There are {df.shape[0]} rows (recipes) in the dataframe.\")"
   ]
  },
  {
   "cell_type": "code",
   "execution_count": 4,
   "metadata": {},
   "outputs": [
    {
     "name": "stdout",
     "output_type": "stream",
     "text": [
      "The columns are:\n",
      "Index(['name', 'id', 'minutes', 'contributor_id', 'submitted', 'tags',\n",
      "       'nutrition', 'n_steps', 'steps', 'description', 'ingredients',\n",
      "       'n_ingredients'],\n",
      "      dtype='object')\n",
      "\n",
      "There are 12 columns.\n"
     ]
    }
   ],
   "source": [
    "print('The columns are:') \n",
    "print(df.columns)\n",
    "print(f'\\nThere are {df.shape[1]} columns.')"
   ]
  },
  {
   "cell_type": "markdown",
   "metadata": {},
   "source": [
    "Look at a sample of the data:"
   ]
  },
  {
   "cell_type": "code",
   "execution_count": 5,
   "metadata": {},
   "outputs": [
    {
     "data": {
      "text/html": [
       "<div>\n",
       "<style scoped>\n",
       "    .dataframe tbody tr th:only-of-type {\n",
       "        vertical-align: middle;\n",
       "    }\n",
       "\n",
       "    .dataframe tbody tr th {\n",
       "        vertical-align: top;\n",
       "    }\n",
       "\n",
       "    .dataframe thead th {\n",
       "        text-align: right;\n",
       "    }\n",
       "</style>\n",
       "<table border=\"1\" class=\"dataframe\">\n",
       "  <thead>\n",
       "    <tr style=\"text-align: right;\">\n",
       "      <th></th>\n",
       "      <th>name</th>\n",
       "      <th>id</th>\n",
       "      <th>minutes</th>\n",
       "      <th>contributor_id</th>\n",
       "      <th>submitted</th>\n",
       "      <th>tags</th>\n",
       "      <th>nutrition</th>\n",
       "      <th>n_steps</th>\n",
       "      <th>steps</th>\n",
       "      <th>description</th>\n",
       "      <th>ingredients</th>\n",
       "      <th>n_ingredients</th>\n",
       "    </tr>\n",
       "  </thead>\n",
       "  <tbody>\n",
       "    <tr>\n",
       "      <th>86426</th>\n",
       "      <td>french scallops</td>\n",
       "      <td>177639</td>\n",
       "      <td>10</td>\n",
       "      <td>74652</td>\n",
       "      <td>2006-07-14</td>\n",
       "      <td>['15-minutes-or-less', 'time-to-make', 'course...</td>\n",
       "      <td>[367.0, 41.0, 0.0, 18.0, 40.0, 37.0, 3.0]</td>\n",
       "      <td>13</td>\n",
       "      <td>['mix together four , salt and pepper', 'coat ...</td>\n",
       "      <td>this is for the french region in the zaar worl...</td>\n",
       "      <td>['all-purpose flour', 'salt', 'pepper', 'scall...</td>\n",
       "      <td>8</td>\n",
       "    </tr>\n",
       "    <tr>\n",
       "      <th>119048</th>\n",
       "      <td>kung pao chicken for two</td>\n",
       "      <td>262719</td>\n",
       "      <td>35</td>\n",
       "      <td>269521</td>\n",
       "      <td>2007-10-31</td>\n",
       "      <td>['60-minutes-or-less', 'time-to-make', 'course...</td>\n",
       "      <td>[448.9, 43.0, 15.0, 41.0, 66.0, 23.0, 4.0]</td>\n",
       "      <td>22</td>\n",
       "      <td>['toss chicken with sherry and soy sauce in me...</td>\n",
       "      <td>original recipe comes from cook's illustrated ...</td>\n",
       "      <td>['boneless skinless chicken breast', 'dry sher...</td>\n",
       "      <td>16</td>\n",
       "    </tr>\n",
       "    <tr>\n",
       "      <th>81016</th>\n",
       "      <td>espresso thumbprint cookies</td>\n",
       "      <td>273585</td>\n",
       "      <td>30</td>\n",
       "      <td>579050</td>\n",
       "      <td>2007-12-25</td>\n",
       "      <td>['30-minutes-or-less', 'time-to-make', 'course...</td>\n",
       "      <td>[877.4, 78.0, 189.0, 20.0, 21.0, 154.0, 32.0]</td>\n",
       "      <td>19</td>\n",
       "      <td>['heat oven to 350f beat sugar , butter , vani...</td>\n",
       "      <td>all the essential food groups in this one :-) ...</td>\n",
       "      <td>['sugar', 'butter', 'vanilla', 'egg', 'all-pur...</td>\n",
       "      <td>11</td>\n",
       "    </tr>\n",
       "  </tbody>\n",
       "</table>\n",
       "</div>"
      ],
      "text/plain": [
       "                               name      id  minutes  contributor_id  \\\n",
       "86426               french scallops  177639       10           74652   \n",
       "119048     kung pao chicken for two  262719       35          269521   \n",
       "81016   espresso thumbprint cookies  273585       30          579050   \n",
       "\n",
       "         submitted                                               tags  \\\n",
       "86426   2006-07-14  ['15-minutes-or-less', 'time-to-make', 'course...   \n",
       "119048  2007-10-31  ['60-minutes-or-less', 'time-to-make', 'course...   \n",
       "81016   2007-12-25  ['30-minutes-or-less', 'time-to-make', 'course...   \n",
       "\n",
       "                                            nutrition  n_steps  \\\n",
       "86426       [367.0, 41.0, 0.0, 18.0, 40.0, 37.0, 3.0]       13   \n",
       "119048     [448.9, 43.0, 15.0, 41.0, 66.0, 23.0, 4.0]       22   \n",
       "81016   [877.4, 78.0, 189.0, 20.0, 21.0, 154.0, 32.0]       19   \n",
       "\n",
       "                                                    steps  \\\n",
       "86426   ['mix together four , salt and pepper', 'coat ...   \n",
       "119048  ['toss chicken with sherry and soy sauce in me...   \n",
       "81016   ['heat oven to 350f beat sugar , butter , vani...   \n",
       "\n",
       "                                              description  \\\n",
       "86426   this is for the french region in the zaar worl...   \n",
       "119048  original recipe comes from cook's illustrated ...   \n",
       "81016   all the essential food groups in this one :-) ...   \n",
       "\n",
       "                                              ingredients  n_ingredients  \n",
       "86426   ['all-purpose flour', 'salt', 'pepper', 'scall...              8  \n",
       "119048  ['boneless skinless chicken breast', 'dry sher...             16  \n",
       "81016   ['sugar', 'butter', 'vanilla', 'egg', 'all-pur...             11  "
      ]
     },
     "execution_count": 5,
     "metadata": {},
     "output_type": "execute_result"
    }
   ],
   "source": [
    "df.sample(3)"
   ]
  },
  {
   "cell_type": "markdown",
   "metadata": {},
   "source": [
    "# Preparing the data"
   ]
  },
  {
   "cell_type": "markdown",
   "metadata": {},
   "source": [
    "## Gluten free recipes"
   ]
  },
  {
   "cell_type": "markdown",
   "metadata": {},
   "source": [
    "Look for recipes that are Gluten free, ie - do not contain wheat, barley, rye, or oats. "
   ]
  },
  {
   "cell_type": "code",
   "execution_count": 6,
   "metadata": {},
   "outputs": [],
   "source": [
    "df_gf = df[(df['description'].str.contains('gluten free') |\n",
    "           df['description'].str.contains('gluten intolerant') |\n",
    "           df['ingredients'].str.contains('gluten free') |\n",
    "           df['ingredients'].str.contains('gluten intolerant') |\n",
    "           df['name'].str.contains('gluten free') |\n",
    "           df['name'].str.contains('gluten intolerant') |\n",
    "           ~ df['ingredients'].str.contains('oat|rye|barley|wheat') \n",
    "           )]"
   ]
  },
  {
   "cell_type": "code",
   "execution_count": 7,
   "metadata": {},
   "outputs": [
    {
     "name": "stdout",
     "output_type": "stream",
     "text": [
      "There are 217325 gluten free recipes.\n"
     ]
    }
   ],
   "source": [
    "print(f\"There are {df_gf.shape[0]} gluten free recipes.\")"
   ]
  },
  {
   "cell_type": "markdown",
   "metadata": {},
   "source": [
    "### Subsetting"
   ]
  },
  {
   "cell_type": "markdown",
   "metadata": {},
   "source": [
    "Take a subset of the data (plus only the relevant features)"
   ]
  },
  {
   "cell_type": "code",
   "execution_count": 8,
   "metadata": {},
   "outputs": [],
   "source": [
    "df_recipes = df_gf.loc[: 20000,['id', 'name', 'ingredients', 'nutrition']]"
   ]
  },
  {
   "cell_type": "markdown",
   "metadata": {},
   "source": [
    "Set the index as the recipe unique id"
   ]
  },
  {
   "cell_type": "code",
   "execution_count": 9,
   "metadata": {},
   "outputs": [
    {
     "data": {
      "text/html": [
       "<div>\n",
       "<style scoped>\n",
       "    .dataframe tbody tr th:only-of-type {\n",
       "        vertical-align: middle;\n",
       "    }\n",
       "\n",
       "    .dataframe tbody tr th {\n",
       "        vertical-align: top;\n",
       "    }\n",
       "\n",
       "    .dataframe thead th {\n",
       "        text-align: right;\n",
       "    }\n",
       "</style>\n",
       "<table border=\"1\" class=\"dataframe\">\n",
       "  <thead>\n",
       "    <tr style=\"text-align: right;\">\n",
       "      <th></th>\n",
       "      <th>id</th>\n",
       "      <th>name</th>\n",
       "      <th>ingredients</th>\n",
       "      <th>nutrition</th>\n",
       "    </tr>\n",
       "  </thead>\n",
       "  <tbody>\n",
       "    <tr>\n",
       "      <th>0</th>\n",
       "      <td>137739</td>\n",
       "      <td>arriba   baked winter squash mexican style</td>\n",
       "      <td>['winter squash', 'mexican seasoning', 'mixed ...</td>\n",
       "      <td>[51.5, 0.0, 13.0, 0.0, 2.0, 0.0, 4.0]</td>\n",
       "    </tr>\n",
       "    <tr>\n",
       "      <th>1</th>\n",
       "      <td>31490</td>\n",
       "      <td>a bit different  breakfast pizza</td>\n",
       "      <td>['prepared pizza crust', 'sausage patty', 'egg...</td>\n",
       "      <td>[173.4, 18.0, 0.0, 17.0, 22.0, 35.0, 1.0]</td>\n",
       "    </tr>\n",
       "    <tr>\n",
       "      <th>2</th>\n",
       "      <td>112140</td>\n",
       "      <td>all in the kitchen  chili</td>\n",
       "      <td>['ground beef', 'yellow onions', 'diced tomato...</td>\n",
       "      <td>[269.8, 22.0, 32.0, 48.0, 39.0, 27.0, 5.0]</td>\n",
       "    </tr>\n",
       "    <tr>\n",
       "      <th>3</th>\n",
       "      <td>59389</td>\n",
       "      <td>alouette  potatoes</td>\n",
       "      <td>['spreadable cheese with garlic and herbs', 'n...</td>\n",
       "      <td>[368.1, 17.0, 10.0, 2.0, 14.0, 8.0, 20.0]</td>\n",
       "    </tr>\n",
       "    <tr>\n",
       "      <th>4</th>\n",
       "      <td>44061</td>\n",
       "      <td>amish  tomato ketchup  for canning</td>\n",
       "      <td>['tomato juice', 'apple cider vinegar', 'sugar...</td>\n",
       "      <td>[352.9, 1.0, 337.0, 23.0, 3.0, 0.0, 28.0]</td>\n",
       "    </tr>\n",
       "  </tbody>\n",
       "</table>\n",
       "</div>"
      ],
      "text/plain": [
       "       id                                        name  \\\n",
       "0  137739  arriba   baked winter squash mexican style   \n",
       "1   31490            a bit different  breakfast pizza   \n",
       "2  112140                   all in the kitchen  chili   \n",
       "3   59389                          alouette  potatoes   \n",
       "4   44061          amish  tomato ketchup  for canning   \n",
       "\n",
       "                                         ingredients  \\\n",
       "0  ['winter squash', 'mexican seasoning', 'mixed ...   \n",
       "1  ['prepared pizza crust', 'sausage patty', 'egg...   \n",
       "2  ['ground beef', 'yellow onions', 'diced tomato...   \n",
       "3  ['spreadable cheese with garlic and herbs', 'n...   \n",
       "4  ['tomato juice', 'apple cider vinegar', 'sugar...   \n",
       "\n",
       "                                    nutrition  \n",
       "0       [51.5, 0.0, 13.0, 0.0, 2.0, 0.0, 4.0]  \n",
       "1   [173.4, 18.0, 0.0, 17.0, 22.0, 35.0, 1.0]  \n",
       "2  [269.8, 22.0, 32.0, 48.0, 39.0, 27.0, 5.0]  \n",
       "3   [368.1, 17.0, 10.0, 2.0, 14.0, 8.0, 20.0]  \n",
       "4   [352.9, 1.0, 337.0, 23.0, 3.0, 0.0, 28.0]  "
      ]
     },
     "execution_count": 9,
     "metadata": {},
     "output_type": "execute_result"
    }
   ],
   "source": [
    "# df_recipes = df_recipes.set_index('id')\n",
    "df_recipes.head()"
   ]
  },
  {
   "cell_type": "markdown",
   "metadata": {},
   "source": [
    "### Recipe Nutrition"
   ]
  },
  {
   "cell_type": "code",
   "execution_count": 10,
   "metadata": {},
   "outputs": [],
   "source": [
    "# preprocessing_nutrition \n",
    "df_recipes['nutrition'] = (df_recipes.nutrition\n",
    " .str.replace('[', '')\n",
    " .str.replace(']', '')\n",
    " .str.replace(\"'\", '')\n",
    " .str.replace(\",\", '')\n",
    " .str.split())"
   ]
  },
  {
   "cell_type": "code",
   "execution_count": 11,
   "metadata": {},
   "outputs": [],
   "source": [
    "#create new nutrition columns\n",
    "df_recipes['calories'] = df_recipes.apply(lambda row: float(row.nutrition[0]), axis=1)\n",
    "# df_recipes['carbohydrates'] = df_recipes.apply(lambda row: float(row.nutrition[2]), axis=1)"
   ]
  },
  {
   "cell_type": "code",
   "execution_count": 12,
   "metadata": {},
   "outputs": [
    {
     "data": {
      "text/html": [
       "<div>\n",
       "<style scoped>\n",
       "    .dataframe tbody tr th:only-of-type {\n",
       "        vertical-align: middle;\n",
       "    }\n",
       "\n",
       "    .dataframe tbody tr th {\n",
       "        vertical-align: top;\n",
       "    }\n",
       "\n",
       "    .dataframe thead th {\n",
       "        text-align: right;\n",
       "    }\n",
       "</style>\n",
       "<table border=\"1\" class=\"dataframe\">\n",
       "  <thead>\n",
       "    <tr style=\"text-align: right;\">\n",
       "      <th></th>\n",
       "      <th>id</th>\n",
       "      <th>name</th>\n",
       "      <th>ingredients</th>\n",
       "      <th>nutrition</th>\n",
       "      <th>calories</th>\n",
       "    </tr>\n",
       "  </thead>\n",
       "  <tbody>\n",
       "    <tr>\n",
       "      <th>0</th>\n",
       "      <td>137739</td>\n",
       "      <td>arriba   baked winter squash mexican style</td>\n",
       "      <td>['winter squash', 'mexican seasoning', 'mixed ...</td>\n",
       "      <td>[51.5, 0.0, 13.0, 0.0, 2.0, 0.0, 4.0]</td>\n",
       "      <td>51.5</td>\n",
       "    </tr>\n",
       "    <tr>\n",
       "      <th>1</th>\n",
       "      <td>31490</td>\n",
       "      <td>a bit different  breakfast pizza</td>\n",
       "      <td>['prepared pizza crust', 'sausage patty', 'egg...</td>\n",
       "      <td>[173.4, 18.0, 0.0, 17.0, 22.0, 35.0, 1.0]</td>\n",
       "      <td>173.4</td>\n",
       "    </tr>\n",
       "  </tbody>\n",
       "</table>\n",
       "</div>"
      ],
      "text/plain": [
       "       id                                        name  \\\n",
       "0  137739  arriba   baked winter squash mexican style   \n",
       "1   31490            a bit different  breakfast pizza   \n",
       "\n",
       "                                         ingredients  \\\n",
       "0  ['winter squash', 'mexican seasoning', 'mixed ...   \n",
       "1  ['prepared pizza crust', 'sausage patty', 'egg...   \n",
       "\n",
       "                                   nutrition  calories  \n",
       "0      [51.5, 0.0, 13.0, 0.0, 2.0, 0.0, 4.0]      51.5  \n",
       "1  [173.4, 18.0, 0.0, 17.0, 22.0, 35.0, 1.0]     173.4  "
      ]
     },
     "execution_count": 12,
     "metadata": {},
     "output_type": "execute_result"
    }
   ],
   "source": [
    "df_recipes.head(2)"
   ]
  },
  {
   "cell_type": "code",
   "execution_count": 17,
   "metadata": {},
   "outputs": [
    {
     "name": "stdout",
     "output_type": "stream",
     "text": [
      "min cals: 0.0\n",
      "max cals: 21497.8\n"
     ]
    }
   ],
   "source": [
    "# some EDA\n",
    "print(f'min cals: {df_recipes.calories.min()}')\n",
    "print(f'max cals: {df_recipes.calories.max()}')"
   ]
  },
  {
   "cell_type": "code",
   "execution_count": 13,
   "metadata": {},
   "outputs": [],
   "source": [
    "#Vectorize categories of columns\n",
    "df_recipes['Calories_less_or_equal_to_100'] = df_recipes['calories'].apply(lambda x: 1 if x <= 100 else 0)\n",
    "df_recipes['Calories_greater_than_100'] = df_recipes['calories'].apply(lambda x: 1 if x > 100 else 0)"
   ]
  },
  {
   "cell_type": "markdown",
   "metadata": {},
   "source": [
    "Categorizing carbohydrates is difficult - the nutrition information does not seem to be entered consistantly. Commenting out this code and not including it, now, but saving it for future use."
   ]
  },
  {
   "cell_type": "code",
   "execution_count": 14,
   "metadata": {},
   "outputs": [],
   "source": [
    "# # Categorizing carbohydrates\n",
    "\n",
    "# df_recipes['carbohydrates_less_or_equal_to_15'] = df_recipes['carbohydrates'].apply(lambda x: 1 if x <= 15 else 0)\n",
    "# df_recipes['carbohydrates_between_16_and_30'] = df_recipes['carbohydrates'].apply(lambda x: 1 if x > 15 and x <= 30 else 0)\n",
    "# df_recipes['carbohydrates_between_31_and_60'] = df_recipes['carbohydrates'].apply(lambda x: 1 if x > 30 and x <= 60 else 0)\n",
    "# df_recipes['carbohydrates_greater_than_60'] = df_recipes['carbohydrates'].apply(lambda x: 1 if x > 60 else 0)"
   ]
  },
  {
   "cell_type": "code",
   "execution_count": 19,
   "metadata": {},
   "outputs": [
    {
     "data": {
      "text/html": [
       "<div>\n",
       "<style scoped>\n",
       "    .dataframe tbody tr th:only-of-type {\n",
       "        vertical-align: middle;\n",
       "    }\n",
       "\n",
       "    .dataframe tbody tr th {\n",
       "        vertical-align: top;\n",
       "    }\n",
       "\n",
       "    .dataframe thead th {\n",
       "        text-align: right;\n",
       "    }\n",
       "</style>\n",
       "<table border=\"1\" class=\"dataframe\">\n",
       "  <thead>\n",
       "    <tr style=\"text-align: right;\">\n",
       "      <th></th>\n",
       "      <th>id</th>\n",
       "      <th>name</th>\n",
       "      <th>ingredients</th>\n",
       "      <th>nutrition</th>\n",
       "      <th>calories</th>\n",
       "      <th>Calories_less_or_equal_to_100</th>\n",
       "      <th>Calories_greater_than_100</th>\n",
       "    </tr>\n",
       "  </thead>\n",
       "  <tbody>\n",
       "    <tr>\n",
       "      <th>0</th>\n",
       "      <td>137739</td>\n",
       "      <td>arriba   baked winter squash mexican style</td>\n",
       "      <td>['winter squash', 'mexican seasoning', 'mixed ...</td>\n",
       "      <td>[51.5, 0.0, 13.0, 0.0, 2.0, 0.0, 4.0]</td>\n",
       "      <td>51.5</td>\n",
       "      <td>1</td>\n",
       "      <td>0</td>\n",
       "    </tr>\n",
       "    <tr>\n",
       "      <th>1</th>\n",
       "      <td>31490</td>\n",
       "      <td>a bit different  breakfast pizza</td>\n",
       "      <td>['prepared pizza crust', 'sausage patty', 'egg...</td>\n",
       "      <td>[173.4, 18.0, 0.0, 17.0, 22.0, 35.0, 1.0]</td>\n",
       "      <td>173.4</td>\n",
       "      <td>0</td>\n",
       "      <td>1</td>\n",
       "    </tr>\n",
       "    <tr>\n",
       "      <th>2</th>\n",
       "      <td>112140</td>\n",
       "      <td>all in the kitchen  chili</td>\n",
       "      <td>['ground beef', 'yellow onions', 'diced tomato...</td>\n",
       "      <td>[269.8, 22.0, 32.0, 48.0, 39.0, 27.0, 5.0]</td>\n",
       "      <td>269.8</td>\n",
       "      <td>0</td>\n",
       "      <td>1</td>\n",
       "    </tr>\n",
       "    <tr>\n",
       "      <th>3</th>\n",
       "      <td>59389</td>\n",
       "      <td>alouette  potatoes</td>\n",
       "      <td>['spreadable cheese with garlic and herbs', 'n...</td>\n",
       "      <td>[368.1, 17.0, 10.0, 2.0, 14.0, 8.0, 20.0]</td>\n",
       "      <td>368.1</td>\n",
       "      <td>0</td>\n",
       "      <td>1</td>\n",
       "    </tr>\n",
       "    <tr>\n",
       "      <th>4</th>\n",
       "      <td>44061</td>\n",
       "      <td>amish  tomato ketchup  for canning</td>\n",
       "      <td>['tomato juice', 'apple cider vinegar', 'sugar...</td>\n",
       "      <td>[352.9, 1.0, 337.0, 23.0, 3.0, 0.0, 28.0]</td>\n",
       "      <td>352.9</td>\n",
       "      <td>0</td>\n",
       "      <td>1</td>\n",
       "    </tr>\n",
       "  </tbody>\n",
       "</table>\n",
       "</div>"
      ],
      "text/plain": [
       "       id                                        name  \\\n",
       "0  137739  arriba   baked winter squash mexican style   \n",
       "1   31490            a bit different  breakfast pizza   \n",
       "2  112140                   all in the kitchen  chili   \n",
       "3   59389                          alouette  potatoes   \n",
       "4   44061          amish  tomato ketchup  for canning   \n",
       "\n",
       "                                         ingredients  \\\n",
       "0  ['winter squash', 'mexican seasoning', 'mixed ...   \n",
       "1  ['prepared pizza crust', 'sausage patty', 'egg...   \n",
       "2  ['ground beef', 'yellow onions', 'diced tomato...   \n",
       "3  ['spreadable cheese with garlic and herbs', 'n...   \n",
       "4  ['tomato juice', 'apple cider vinegar', 'sugar...   \n",
       "\n",
       "                                    nutrition  calories  \\\n",
       "0       [51.5, 0.0, 13.0, 0.0, 2.0, 0.0, 4.0]      51.5   \n",
       "1   [173.4, 18.0, 0.0, 17.0, 22.0, 35.0, 1.0]     173.4   \n",
       "2  [269.8, 22.0, 32.0, 48.0, 39.0, 27.0, 5.0]     269.8   \n",
       "3   [368.1, 17.0, 10.0, 2.0, 14.0, 8.0, 20.0]     368.1   \n",
       "4   [352.9, 1.0, 337.0, 23.0, 3.0, 0.0, 28.0]     352.9   \n",
       "\n",
       "   Calories_less_or_equal_to_100  Calories_greater_than_100  \n",
       "0                              1                          0  \n",
       "1                              0                          1  \n",
       "2                              0                          1  \n",
       "3                              0                          1  \n",
       "4                              0                          1  "
      ]
     },
     "execution_count": 19,
     "metadata": {},
     "output_type": "execute_result"
    }
   ],
   "source": [
    "df_recipes.head()"
   ]
  },
  {
   "cell_type": "code",
   "execution_count": 15,
   "metadata": {},
   "outputs": [],
   "source": [
    "# clean up the df\n",
    "# df_recipes = df_recipes.drop('nutrition', axis=1)"
   ]
  },
  {
   "cell_type": "markdown",
   "metadata": {},
   "source": [
    "## More EDA"
   ]
  },
  {
   "cell_type": "code",
   "execution_count": 17,
   "metadata": {},
   "outputs": [],
   "source": [
    "import matplotlib.pyplot as plt"
   ]
  },
  {
   "cell_type": "code",
   "execution_count": 23,
   "metadata": {},
   "outputs": [
    {
     "data": {
      "text/plain": [
       "(array([1.218e+04, 4.534e+03, 8.690e+02, 3.090e+02, 1.420e+02, 1.030e+02,\n",
       "        9.100e+01, 6.900e+01, 5.300e+01, 4.400e+01, 2.000e+01, 1.700e+01,\n",
       "        2.600e+01, 1.500e+01, 4.000e+00, 1.200e+01, 1.200e+01, 8.000e+00,\n",
       "        5.000e+00, 2.000e+00, 1.000e+00, 4.000e+00, 1.000e+00, 1.000e+00,\n",
       "        0.000e+00, 0.000e+00, 1.000e+00, 1.000e+00, 0.000e+00, 0.000e+00,\n",
       "        0.000e+00, 1.000e+00, 1.000e+00, 0.000e+00, 0.000e+00, 0.000e+00,\n",
       "        0.000e+00, 0.000e+00, 0.000e+00, 0.000e+00, 0.000e+00, 0.000e+00,\n",
       "        0.000e+00, 1.000e+00, 0.000e+00, 0.000e+00, 0.000e+00, 0.000e+00,\n",
       "        0.000e+00, 1.000e+00]),\n",
       " array([    0.   ,   429.956,   859.912,  1289.868,  1719.824,  2149.78 ,\n",
       "         2579.736,  3009.692,  3439.648,  3869.604,  4299.56 ,  4729.516,\n",
       "         5159.472,  5589.428,  6019.384,  6449.34 ,  6879.296,  7309.252,\n",
       "         7739.208,  8169.164,  8599.12 ,  9029.076,  9459.032,  9888.988,\n",
       "        10318.944, 10748.9  , 11178.856, 11608.812, 12038.768, 12468.724,\n",
       "        12898.68 , 13328.636, 13758.592, 14188.548, 14618.504, 15048.46 ,\n",
       "        15478.416, 15908.372, 16338.328, 16768.284, 17198.24 , 17628.196,\n",
       "        18058.152, 18488.108, 18918.064, 19348.02 , 19777.976, 20207.932,\n",
       "        20637.888, 21067.844, 21497.8  ]),\n",
       " <a list of 50 Patch objects>)"
      ]
     },
     "execution_count": 23,
     "metadata": {},
     "output_type": "execute_result"
    },
    {
     "data": {
      "image/png": "[encoded data removed]",
      "text/plain": [
       "<Figure size 432x288 with 1 Axes>"
      ]
     },
     "metadata": {
      "needs_background": "light"
     },
     "output_type": "display_data"
    }
   ],
   "source": [
    "n_bins = 3\n",
    "fig, axs = plt.subplots(1)\n",
    "x = df_recipes.calories\n",
    "\n",
    "# We can set the number of bins with the `bins` kwarg\n",
    "axs.hist(x, bins=50)"
   ]
  },
  {
   "cell_type": "code",
   "execution_count": null,
   "metadata": {},
   "outputs": [],
   "source": [
    "# Later: consider dropping all recipes where calories is a large number."
   ]
  },
  {
   "cell_type": "markdown",
   "metadata": {},
   "source": [
    "# Pickle subset"
   ]
  },
  {
   "cell_type": "code",
   "execution_count": 16,
   "metadata": {},
   "outputs": [],
   "source": [
    "import pickle\n",
    "with open('gf_recipe_data.pkl', 'wb') as f:\n",
    "    data = pickle.dump(df_recipes, f)\n",
    "  "
   ]
  },
  {
   "cell_type": "code",
   "execution_count": null,
   "metadata": {},
   "outputs": [],
   "source": []
  }
 ],
 "metadata": {
  "kernelspec": {
   "display_name": "Python 3 (learn-env)",
   "language": "python",
   "name": "learn-env"
  },
  "language_info": {
   "codemirror_mode": {
    "name": "ipython",
    "version": 3
   },
   "file_extension": ".py",
   "mimetype": "text/x-python",
   "name": "python",
   "nbconvert_exporter": "python",
   "pygments_lexer": "ipython3",
   "version": "3.6.6"
  }
 },
 "nbformat": 4,
 "nbformat_minor": 2
}
