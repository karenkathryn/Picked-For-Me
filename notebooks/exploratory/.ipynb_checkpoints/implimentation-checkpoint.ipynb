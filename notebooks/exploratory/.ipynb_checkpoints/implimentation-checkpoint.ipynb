{
 "cells": [
  {
   "cell_type": "markdown",
   "metadata": {
    "colab_type": "text",
    "id": "82svuHbvW_yo"
   },
   "source": [
    "# Notebook Narritive\n",
    "Problem: Imagine someone sitting in front on their computer... combing through pages and pages of recipes... trying to find out what to eat for supper. \n",
    "Well, look no more! If you have strong opinions about food this app is here to help. \n",
    "Enter a set of ingredients that you like, those you don’t,  and it will recommend a good recipe for you. \n",
    "\n",
    "\n",
    "Solution: Create 'Picked For Me', a content-based recommendation system for recipes based on ‘similar’ ingredients.\n",
    "\n",
    "\n",
    "Goals of this notebook:\n",
    "1.   EDA (continued)\n",
    "2.   Impliment word2vec\n",
    "3.   Impliment TF-IDF methods\n",
    "4.   Combine methods and add user interaction\n",
    "\n",
    "\n",
    "\n"
   ]
  },
  {
   "cell_type": "markdown",
   "metadata": {
    "colab_type": "text",
    "id": "X0bVRIwVVdvB"
   },
   "source": [
    "## Preliminary Work\n",
    "Import dependencies for this notebook."
   ]
  },
  {
   "cell_type": "code",
   "execution_count": 1,
   "metadata": {
    "colab": {},
    "colab_type": "code",
    "id": "CzJ2ulqaVZjd"
   },
   "outputs": [],
   "source": [
    "%load_ext autoreload\n",
    "%autoreload 2"
   ]
  },
  {
   "cell_type": "code",
   "execution_count": 2,
   "metadata": {
    "colab": {},
    "colab_type": "code",
    "id": "CzJ2ulqaVZjd"
   },
   "outputs": [],
   "source": [
    "import pickle\n",
    "import pandas as pd\n",
    "import gensim\n",
    "import logging\n",
    "logging.basicConfig(format='%(asctime)s : %(levelname)s : %(message)s', level=logging.INFO)\n",
    "from sklearn.manifold import TSNE\n",
    "import numpy as np\n",
    "import matplotlib.pyplot as plt\n",
    "import matplotlib.cm as cm\n",
    "%matplotlib inline\n",
    "from sklearn.feature_extraction.text import TfidfVectorizer\n",
    "#import nltk\n",
    "#from nltk.corpus import stopwords\n",
    "#from nltk import SnowballStemmer as snow\n",
    "import sklearn\n",
    "import sklearn.metrics\n",
    "\n",
    "from src.utilities import fun as fun"
   ]
  },
  {
   "cell_type": "markdown",
   "metadata": {
    "colab_type": "text",
    "id": "v42TxEW-WKdt"
   },
   "source": [
    "Load recipe file (saved as a pickle) as a DataFrame."
   ]
  },
  {
   "cell_type": "code",
   "execution_count": 3,
   "metadata": {
    "colab": {},
    "colab_type": "code",
    "id": "5wnhLYlTWOjR"
   },
   "outputs": [],
   "source": [
    "file = '/Users/karenwarmbein/ds/capstone/data/processed/recipe_data_220k.pkl'\n",
    "df = pd.read_pickle(file)"
   ]
  },
  {
   "cell_type": "markdown",
   "metadata": {
    "colab_type": "text",
    "id": "wRgnKjDxWlTa"
   },
   "source": [
    "Only use a subset of the data, for computational restrictions."
   ]
  },
  {
   "cell_type": "code",
   "execution_count": 4,
   "metadata": {
    "colab": {},
    "colab_type": "code",
    "id": "RKUYvVTPWnk0"
   },
   "outputs": [],
   "source": [
    "df = df.iloc[:10000]"
   ]
  },
  {
   "cell_type": "markdown",
   "metadata": {
    "colab_type": "text",
    "id": "ex6c2Ud2Wasa"
   },
   "source": [
    "# EDA\n",
    "View the headers and the first few rows of the DataFrame."
   ]
  },
  {
   "cell_type": "code",
   "execution_count": null,
   "metadata": {
    "colab": {
     "base_uri": "https://localhost:8080/",
     "height": 252
    },
    "colab_type": "code",
    "collapsed": true,
    "id": "MJ10LLhDWc_j",
    "outputId": "a7137b51-cd0a-490c-ebd9-52f74bab1e89"
   },
   "outputs": [],
   "source": [
    "print(df.shape)\n",
    "df.head()"
   ]
  },
  {
   "cell_type": "markdown",
   "metadata": {
    "colab_type": "text",
    "id": "kvJJejv7wiN_"
   },
   "source": [
    "What is the data type of the ingredients?\n"
   ]
  },
  {
   "cell_type": "code",
   "execution_count": null,
   "metadata": {
    "colab": {
     "base_uri": "https://localhost:8080/",
     "height": 34
    },
    "colab_type": "code",
    "collapsed": true,
    "id": "wZfzphRTYVWE",
    "outputId": "240175c7-6931-42ca-b428-991123b89aee"
   },
   "outputs": [],
   "source": [
    "type(df.ingredients.iloc[0])"
   ]
  },
  {
   "cell_type": "markdown",
   "metadata": {
    "colab_type": "text",
    "id": "g_F-8WtewulK"
   },
   "source": [
    "Hm.... a string. Note: will need to preprocess the ingredients and turn the string into a list.\n"
   ]
  },
  {
   "cell_type": "markdown",
   "metadata": {
    "colab_type": "text",
    "id": "Vye0sAdqY3sV"
   },
   "source": [
    "# word2vec Work\n",
    "Goal: use word2vec to compare ingredients.\n",
    "First, preprocess the data into a list.\n"
   ]
  },
  {
   "cell_type": "code",
   "execution_count": 5,
   "metadata": {
    "colab": {},
    "colab_type": "code",
    "id": "29fNSP5IYdQS"
   },
   "outputs": [],
   "source": [
    "# Preprocessing the ingredients strings into a list format that word2vec will use\n",
    "documents = df.ingredients.str.replace('[', '').str.replace(']', '').str.split(', ').tolist()     "
   ]
  },
  {
   "cell_type": "code",
   "execution_count": 36,
   "metadata": {},
   "outputs": [
    {
     "data": {
      "text/plain": [
       "10000"
      ]
     },
     "execution_count": 36,
     "metadata": {},
     "output_type": "execute_result"
    }
   ],
   "source": [
    "len(documents)"
   ]
  },
  {
   "cell_type": "markdown",
   "metadata": {
    "colab_type": "text",
    "id": "BAAazTB2xi3g"
   },
   "source": [
    "Create a model using the gensim library."
   ]
  },
  {
   "cell_type": "code",
   "execution_count": 6,
   "metadata": {
    "colab": {
     "base_uri": "https://localhost:8080/",
     "height": 428
    },
    "colab_type": "code",
    "id": "UxkLtLShZfPB",
    "outputId": "b1066063-dd30-4e9d-e931-717fbe770b81"
   },
   "outputs": [
    {
     "name": "stderr",
     "output_type": "stream",
     "text": [
      "2020-02-05 14:36:39,096 : INFO : collecting all words and their counts\n",
      "2020-02-05 14:36:39,098 : INFO : PROGRESS: at sentence #0, processed 0 words, keeping 0 word types\n",
      "2020-02-05 14:36:39,135 : INFO : collected 5336 word types from a corpus of 84002 raw words and 10000 sentences\n",
      "2020-02-05 14:36:39,137 : INFO : Loading a fresh vocabulary\n",
      "2020-02-05 14:36:39,242 : INFO : effective_min_count=0 retains 5336 unique words (100% of original 5336, drops 0)\n",
      "2020-02-05 14:36:39,243 : INFO : effective_min_count=0 leaves 84002 word corpus (100% of original 84002, drops 0)\n",
      "2020-02-05 14:36:39,296 : INFO : deleting the raw counts dictionary of 5336 items\n",
      "2020-02-05 14:36:39,298 : INFO : sample=0.001 downsamples 64 most-common words\n",
      "2020-02-05 14:36:39,300 : INFO : downsampling leaves estimated 67684 word corpus (80.6% of prior 84002)\n",
      "2020-02-05 14:36:39,336 : INFO : estimated required memory for 5336 words and 200 dimensions: 11205600 bytes\n",
      "2020-02-05 14:36:39,336 : INFO : resetting layer weights\n",
      "2020-02-05 14:36:40,770 : INFO : training model with 1 workers on 5336 vocabulary and 200 features, using sg=0 hs=0 sample=0.001 negative=5 window=5\n",
      "2020-02-05 14:36:40,975 : INFO : worker thread finished; awaiting finish of 0 more threads\n",
      "2020-02-05 14:36:40,977 : INFO : EPOCH - 1 : training on 84002 raw words (67558 effective words) took 0.2s, 338949 effective words/s\n",
      "2020-02-05 14:36:41,184 : INFO : worker thread finished; awaiting finish of 0 more threads\n",
      "2020-02-05 14:36:41,185 : INFO : EPOCH - 2 : training on 84002 raw words (67679 effective words) took 0.2s, 334325 effective words/s\n",
      "2020-02-05 14:36:41,389 : INFO : worker thread finished; awaiting finish of 0 more threads\n",
      "2020-02-05 14:36:41,390 : INFO : EPOCH - 3 : training on 84002 raw words (67728 effective words) took 0.2s, 350571 effective words/s\n",
      "2020-02-05 14:36:41,614 : INFO : worker thread finished; awaiting finish of 0 more threads\n",
      "2020-02-05 14:36:41,615 : INFO : EPOCH - 4 : training on 84002 raw words (67695 effective words) took 0.2s, 314475 effective words/s\n",
      "2020-02-05 14:36:41,806 : INFO : worker thread finished; awaiting finish of 0 more threads\n",
      "2020-02-05 14:36:41,807 : INFO : EPOCH - 5 : training on 84002 raw words (67645 effective words) took 0.2s, 367587 effective words/s\n",
      "2020-02-05 14:36:41,807 : INFO : training on a 420010 raw words (338305 effective words) took 1.0s, 326567 effective words/s\n"
     ]
    }
   ],
   "source": [
    "# --size=N: dimensions of N-D space Word2Vec maps the words onto (bigger can lead to more accurate models)\n",
    "# --workers: =1 for 1 core (install Cython to increase number and decrease speed time)\n",
    "# --min_count: is for pruning the internal dictionary, want 0 since we want the initial ingred. set from\n",
    "#   the recipies to be the same set when we search for recipies from the tf-idf vectorizer \n",
    "model = gensim.models.Word2Vec(documents, size=200, min_count=0, workers=1)"
   ]
  },
  {
   "cell_type": "markdown",
   "metadata": {
    "colab_type": "text",
    "id": "fII-JzzD_FPj"
   },
   "source": [
    "Train the model on the corpus."
   ]
  },
  {
   "cell_type": "code",
   "execution_count": 8,
   "metadata": {
    "colab": {
     "base_uri": "https://localhost:8080/",
     "height": 445
    },
    "colab_type": "code",
    "id": "4Tryeutu_GSt",
    "outputId": "d0954933-e6b5-4acf-8ca1-4e2c8cd5d5f3"
   },
   "outputs": [
    {
     "name": "stderr",
     "output_type": "stream",
     "text": [
      "2020-02-03 15:55:13,600 : WARNING : Effective 'alpha' higher than previous training cycles\n",
      "2020-02-03 15:55:13,602 : INFO : training model with 1 workers on 5336 vocabulary and 200 features, using sg=0 hs=0 sample=0.001 negative=5 window=5\n",
      "2020-02-03 15:55:13,803 : INFO : worker thread finished; awaiting finish of 0 more threads\n",
      "2020-02-03 15:55:13,804 : INFO : EPOCH - 1 : training on 84002 raw words (67699 effective words) took 0.2s, 344575 effective words/s\n",
      "2020-02-03 15:55:13,997 : INFO : worker thread finished; awaiting finish of 0 more threads\n",
      "2020-02-03 15:55:13,998 : INFO : EPOCH - 2 : training on 84002 raw words (67723 effective words) took 0.2s, 366976 effective words/s\n",
      "2020-02-03 15:55:14,198 : INFO : worker thread finished; awaiting finish of 0 more threads\n",
      "2020-02-03 15:55:14,199 : INFO : EPOCH - 3 : training on 84002 raw words (67763 effective words) took 0.2s, 348202 effective words/s\n",
      "2020-02-03 15:55:14,383 : INFO : worker thread finished; awaiting finish of 0 more threads\n",
      "2020-02-03 15:55:14,384 : INFO : EPOCH - 4 : training on 84002 raw words (67610 effective words) took 0.2s, 387611 effective words/s\n",
      "2020-02-03 15:55:14,573 : INFO : worker thread finished; awaiting finish of 0 more threads\n",
      "2020-02-03 15:55:14,574 : INFO : EPOCH - 5 : training on 84002 raw words (67798 effective words) took 0.2s, 377983 effective words/s\n",
      "2020-02-03 15:55:14,762 : INFO : worker thread finished; awaiting finish of 0 more threads\n",
      "2020-02-03 15:55:14,764 : INFO : EPOCH - 6 : training on 84002 raw words (67760 effective words) took 0.2s, 371591 effective words/s\n",
      "2020-02-03 15:55:14,965 : INFO : worker thread finished; awaiting finish of 0 more threads\n",
      "2020-02-03 15:55:14,966 : INFO : EPOCH - 7 : training on 84002 raw words (67756 effective words) took 0.2s, 347372 effective words/s\n",
      "2020-02-03 15:55:15,162 : INFO : worker thread finished; awaiting finish of 0 more threads\n",
      "2020-02-03 15:55:15,162 : INFO : EPOCH - 8 : training on 84002 raw words (67667 effective words) took 0.2s, 356901 effective words/s\n",
      "2020-02-03 15:55:15,364 : INFO : worker thread finished; awaiting finish of 0 more threads\n",
      "2020-02-03 15:55:15,365 : INFO : EPOCH - 9 : training on 84002 raw words (67613 effective words) took 0.2s, 344934 effective words/s\n",
      "2020-02-03 15:55:15,567 : INFO : worker thread finished; awaiting finish of 0 more threads\n",
      "2020-02-03 15:55:15,568 : INFO : EPOCH - 10 : training on 84002 raw words (67746 effective words) took 0.2s, 343992 effective words/s\n",
      "2020-02-03 15:55:15,569 : INFO : training on a 840020 raw words (677135 effective words) took 2.0s, 344416 effective words/s\n"
     ]
    },
    {
     "data": {
      "text/plain": [
       "(677135, 840020)"
      ]
     },
     "execution_count": 8,
     "metadata": {},
     "output_type": "execute_result"
    }
   ],
   "source": [
    "# --total_examples: # of 'sentences' (== recipes)\n",
    "# --epochs: number of iterations over the corpus (more epochs can improve results)\n",
    "model.train(documents, total_examples=len(documents), epochs=10)"
   ]
  },
  {
   "cell_type": "markdown",
   "metadata": {},
   "source": [
    "Pickle the model."
   ]
  },
  {
   "cell_type": "code",
   "execution_count": 7,
   "metadata": {},
   "outputs": [],
   "source": [
    "with open('model-w2v.pkl', 'wb') as f:\n",
    "    data = pickle.dump(model, f)"
   ]
  },
  {
   "cell_type": "markdown",
   "metadata": {
    "colab_type": "text",
    "id": "PE39g_LWCMaf"
   },
   "source": [
    "Explore the model."
   ]
  },
  {
   "cell_type": "code",
   "execution_count": null,
   "metadata": {
    "colab": {
     "base_uri": "https://localhost:8080/",
     "height": 88
    },
    "colab_type": "code",
    "collapsed": true,
    "id": "wTJvQv-0ahqp",
    "outputId": "903d5681-214e-4550-e983-4872e7e5a0fd"
   },
   "outputs": [],
   "source": [
    "#look at the similarity score of words\n",
    "model.wv.similarity(\"'cod'\", \"'kale'\")"
   ]
  },
  {
   "cell_type": "code",
   "execution_count": null,
   "metadata": {
    "colab": {
     "base_uri": "https://localhost:8080/",
     "height": 258
    },
    "colab_type": "code",
    "collapsed": true,
    "id": "7LH2ZeiXah5P",
    "outputId": "f51fe5bf-8e97-4195-f355-594425a77248"
   },
   "outputs": [],
   "source": [
    "#look for similar words\n",
    "model.wv.most_similar (\"'kale'\")"
   ]
  },
  {
   "cell_type": "code",
   "execution_count": 24,
   "metadata": {},
   "outputs": [
    {
     "data": {
      "text/plain": [
       "[(\"'cheese'\", 0.9998035430908203),\n",
       " (\"'swiss cheese'\", 0.9998016357421875),\n",
       " (\"'sharp cheddar cheese'\", 0.9997991919517517),\n",
       " (\"'cheddar cheese'\", 0.9997961521148682),\n",
       " (\"'cooked bacon'\", 0.9997817277908325),\n",
       " (\"'monterey jack cheese'\", 0.999775767326355),\n",
       " (\"'cream of mushroom soup'\", 0.9997740983963013),\n",
       " (\"'bread'\", 0.9997686743736267),\n",
       " (\"'ham'\", 0.9997659921646118),\n",
       " (\"'cottage cheese'\", 0.9997535347938538),\n",
       " (\"'velveeta cheese'\", 0.9997493624687195),\n",
       " (\"'sour cream'\", 0.9997465014457703),\n",
       " (\"'cream of chicken soup'\", 0.9997420907020569),\n",
       " (\"'bacon bits'\", 0.9997384548187256),\n",
       " (\"'salsa'\", 0.9997372627258301),\n",
       " (\"'lettuce'\", 0.9997349381446838),\n",
       " (\"'american cheese'\", 0.9997290968894958),\n",
       " (\"'ricotta cheese'\", 0.999721348285675),\n",
       " (\"'egg'\", 0.9997186064720154),\n",
       " (\"'shredded cheddar cheese'\", 0.9997178316116333)]"
      ]
     },
     "execution_count": 24,
     "metadata": {},
     "output_type": "execute_result"
    }
   ],
   "source": [
    "#look for similar words\n",
    "w_pos = [\"'bacon'\", \"'peanut butter'\"]\n",
    "w_neg = [\"'sweet potatoes'\"]\n",
    "model.wv.most_similar(positive=w_pos, negative=w_neg, topn=20)"
   ]
  },
  {
   "cell_type": "markdown",
   "metadata": {
    "colab_type": "text",
    "id": "EgJPKjQhb1XY"
   },
   "source": [
    "Plotting the clusters of ingredients; code adapted from [this](https://towardsdatascience.com/google-news-and-leo-tolstoy-visualizing-word2vec-word-embeddings-with-t-sne-11558d8bd4d) blog post."
   ]
  },
  {
   "cell_type": "code",
   "execution_count": 37,
   "metadata": {
    "colab": {},
    "colab_type": "code",
    "id": "pVtHAyzmb14J"
   },
   "outputs": [],
   "source": [
    "keys = [\"'cod'\", \"'beef'\", \"'sugar'\"]"
   ]
  },
  {
   "cell_type": "code",
   "execution_count": 38,
   "metadata": {
    "colab": {
     "base_uri": "https://localhost:8080/",
     "height": 139
    },
    "colab_type": "code",
    "id": "aDz12SuFcBiY",
    "outputId": "1431024b-fd23-4d1c-80dd-924a0ed4d7dd"
   },
   "outputs": [
    {
     "name": "stderr",
     "output_type": "stream",
     "text": [
      "/usr/local/anaconda3/envs/pick/lib/python3.7/site-packages/ipykernel_launcher.py:7: DeprecationWarning: Call to deprecated `most_similar` (Method will be removed in 4.0.0, use self.wv.most_similar() instead).\n",
      "  import sys\n",
      "/usr/local/anaconda3/envs/pick/lib/python3.7/site-packages/ipykernel_launcher.py:9: DeprecationWarning: Call to deprecated `__getitem__` (Method will be removed in 4.0.0, use self.wv.__getitem__() instead).\n",
      "  if __name__ == '__main__':\n"
     ]
    }
   ],
   "source": [
    "embedding_clusters = []\n",
    "word_clusters = []\n",
    "\n",
    "for word in keys:\n",
    "    embeddings = []\n",
    "    words = []\n",
    "    for similar_word, _ in model.most_similar(word, topn=10):\n",
    "        words.append(similar_word)\n",
    "        embeddings.append(model[similar_word])\n",
    "    embedding_clusters.append(embeddings)\n",
    "    word_clusters.append(words)"
   ]
  },
  {
   "cell_type": "code",
   "execution_count": 39,
   "metadata": {
    "colab": {},
    "colab_type": "code",
    "id": "LGlHdPgvcJeW"
   },
   "outputs": [],
   "source": [
    "embedding_clusters = np.array(embedding_clusters)\n",
    "n, m, k = embedding_clusters.shape\n",
    "tsne_model_en_2d = TSNE(perplexity=15, n_components=2, init='pca', n_iter=3500, random_state=32)\n",
    "embeddings_en_2d = np.array(tsne_model_en_2d.fit_transform(embedding_clusters.reshape(n * m, k))).reshape(n, m, 2)"
   ]
  },
  {
   "cell_type": "code",
   "execution_count": 40,
   "metadata": {
    "colab": {},
    "colab_type": "code",
    "id": "YVFP3IadcRob"
   },
   "outputs": [],
   "source": [
    "def tsne_plot_similar_words(title, labels, embedding_clusters, word_clusters, a, filename=None):\n",
    "    plt.figure(figsize=(16, 9))\n",
    "    colors = cm.rainbow(np.linspace(0, 1, len(labels)))\n",
    "    for label, embeddings, words, color in zip(labels, embedding_clusters, word_clusters, colors):\n",
    "        x = embeddings[:, 0]\n",
    "        y = embeddings[:, 1]\n",
    "        plt.scatter(x, y, c=color, alpha=a, label=label)\n",
    "        for i, word in enumerate(words):\n",
    "            plt.annotate(word, alpha=0.7, xy=(x[i], y[i]), xytext=(5, 2),\n",
    "                         textcoords='offset points', ha='right', va='bottom', size=8)\n",
    "    plt.xticks([])\n",
    "    plt.yticks([])\n",
    "    plt.legend(loc=4)\n",
    "    plt.title(title)\n",
    "    plt.grid(True)\n",
    "    if filename:\n",
    "        plt.savefig(filename, format='png', dpi=150, bbox_inches='tight')\n",
    "    plt.show()\n"
   ]
  },
  {
   "cell_type": "code",
   "execution_count": 41,
   "metadata": {
    "colab": {
     "base_uri": "https://localhost:8080/",
     "height": 628
    },
    "colab_type": "code",
    "id": "dr5ymL5sc8UU",
    "outputId": "ae299ab8-8a19-4ebc-d1d7-0f9012d461d2"
   },
   "outputs": [
    {
     "name": "stderr",
     "output_type": "stream",
     "text": [
      "2020-02-07 09:02:24,110 : WARNING : 'c' argument looks like a single numeric RGB or RGBA sequence, which should be avoided as value-mapping will have precedence in case its length matches with 'x' & 'y'.  Please use a 2-D array with a single row if you really want to specify the same RGB or RGBA value for all points.\n",
      "2020-02-07 09:02:24,131 : WARNING : 'c' argument looks like a single numeric RGB or RGBA sequence, which should be avoided as value-mapping will have precedence in case its length matches with 'x' & 'y'.  Please use a 2-D array with a single row if you really want to specify the same RGB or RGBA value for all points.\n"
     ]
    },
    {
     "data": {
      "image/png": "[encoded data removed]",
      "text/plain": [
       "<Figure size 1152x648 with 1 Axes>"
      ]
     },
     "metadata": {},
     "output_type": "display_data"
    }
   ],
   "source": [
    "tsne_plot_similar_words('Similar ingredients for 5 key foods', keys, embeddings_en_2d, word_clusters, 0.7)"
   ]
  },
  {
   "cell_type": "markdown",
   "metadata": {
    "colab_type": "text",
    "id": "KqaQNP-ZkYEM"
   },
   "source": [
    "## TF-IDF Work\n",
    "Prework"
   ]
  },
  {
   "cell_type": "markdown",
   "metadata": {
    "colab_type": "text",
    "id": "R1prsBBjlCNz"
   },
   "source": [
    "Create a function that tokenizes the recipe text in the tf-idf process that matches the word2vec tokenization."
   ]
  },
  {
   "cell_type": "code",
   "execution_count": 8,
   "metadata": {
    "colab": {},
    "colab_type": "code",
    "id": "xolckO-3v-aw"
   },
   "outputs": [],
   "source": [
    "def tokens_test(x):\n",
    "  \"\"\" This function takes a string input and only splits on the comma between ingredients.\"\"\"\n",
    "  return x.split(', ')"
   ]
  },
  {
   "cell_type": "markdown",
   "metadata": {
    "colab_type": "text",
    "id": "9e8XGXy65FOG"
   },
   "source": [
    "Do some preprocessing of the ingredient strings: delete the brackets."
   ]
  },
  {
   "cell_type": "code",
   "execution_count": 9,
   "metadata": {
    "colab": {
     "base_uri": "https://localhost:8080/",
     "height": 238
    },
    "colab_type": "code",
    "id": "FBAsT4IAkOd7",
    "outputId": "668215a0-5da9-4346-9b5b-0ee9ea11885c"
   },
   "outputs": [
    {
     "data": {
      "text/plain": [
       "id\n",
       "137739    'winter squash', 'mexican seasoning', 'mixed s...\n",
       "31490     'prepared pizza crust', 'sausage patty', 'eggs...\n",
       "112140    'ground beef', 'yellow onions', 'diced tomatoe...\n",
       "59389     'spreadable cheese with garlic and herbs', 'ne...\n",
       "44061     'tomato juice', 'apple cider vinegar', 'sugar'...\n",
       "                                ...                        \n",
       "450592    'large shrimp', 'sweetened coconut', 'panko br...\n",
       "260940    'olive oil', 'onion', 'garlic', 'chopped tomat...\n",
       "332128    'cod fish fillets', 'butter', 'tomatoes', 'gre...\n",
       "383814    'extra virgin olive oil', 'onions', 'button mu...\n",
       "347236    'anise', 'onion', 'lemon', 'salt and pepper', ...\n",
       "Name: ingredients, Length: 10000, dtype: object"
      ]
     },
     "execution_count": 9,
     "metadata": {},
     "output_type": "execute_result"
    }
   ],
   "source": [
    "df.ingredients = df.ingredients.str.replace('[', '')\n",
    "df.ingredients = df.ingredients.str.replace(']', '')\n",
    "df.ingredients"
   ]
  },
  {
   "cell_type": "code",
   "execution_count": 10,
   "metadata": {
    "colab": {},
    "colab_type": "code",
    "id": "4th_RF-glbor"
   },
   "outputs": [],
   "source": [
    "tfidf = sklearn.feature_extraction.text.TfidfVectorizer(tokenizer=tokens_test)"
   ]
  },
  {
   "cell_type": "code",
   "execution_count": 11,
   "metadata": {
    "colab": {},
    "colab_type": "code",
    "id": "h6IJXHpAl1f9"
   },
   "outputs": [],
   "source": [
    "response = tfidf.fit_transform(df.ingredients)"
   ]
  },
  {
   "cell_type": "code",
   "execution_count": 12,
   "metadata": {
    "colab": {
     "base_uri": "https://localhost:8080/",
     "height": 572
    },
    "colab_type": "code",
    "id": "ioBckxenmRvr",
    "outputId": "20166553-1e2d-4a3f-a3e0-d65ddf11e607"
   },
   "outputs": [
    {
     "data": {
      "text/html": [
       "<div>\n",
       "<style scoped>\n",
       "    .dataframe tbody tr th:only-of-type {\n",
       "        vertical-align: middle;\n",
       "    }\n",
       "\n",
       "    .dataframe tbody tr th {\n",
       "        vertical-align: top;\n",
       "    }\n",
       "\n",
       "    .dataframe thead th {\n",
       "        text-align: right;\n",
       "    }\n",
       "</style>\n",
       "<table border=\"1\" class=\"dataframe\">\n",
       "  <thead>\n",
       "    <tr style=\"text-align: right;\">\n",
       "      <th></th>\n",
       "      <th>\"baker's semi-sweet baking chocolate\"</th>\n",
       "      <th>\"campbell's cream of chicken soup\"</th>\n",
       "      <th>\"campbell's cream of mushroom soup\"</th>\n",
       "      <th>\"campbell's golden mushroom soup\"</th>\n",
       "      <th>\"campbell's healthy request cream of broccoli soup\"</th>\n",
       "      <th>\"campbell's tomato soup\"</th>\n",
       "      <th>\"coleman's dry mustard\"</th>\n",
       "      <th>\"confectioners' sugar\"</th>\n",
       "      <th>\"devil's food cake mix\"</th>\n",
       "      <th>\"eggland's best large egg\"</th>\n",
       "      <th>...</th>\n",
       "      <th>'ziploc bag'</th>\n",
       "      <th>'ziploc bags'</th>\n",
       "      <th>'ziti pasta'</th>\n",
       "      <th>'zucchini with italian-style tomato sauce'</th>\n",
       "      <th>'zucchini'</th>\n",
       "      <th>juice and rind of'</th>\n",
       "      <th>juice and zest of'</th>\n",
       "      <th>juice of'</th>\n",
       "      <th>rind of'</th>\n",
       "      <th>zest of'</th>\n",
       "    </tr>\n",
       "    <tr>\n",
       "      <th>id</th>\n",
       "      <th></th>\n",
       "      <th></th>\n",
       "      <th></th>\n",
       "      <th></th>\n",
       "      <th></th>\n",
       "      <th></th>\n",
       "      <th></th>\n",
       "      <th></th>\n",
       "      <th></th>\n",
       "      <th></th>\n",
       "      <th></th>\n",
       "      <th></th>\n",
       "      <th></th>\n",
       "      <th></th>\n",
       "      <th></th>\n",
       "      <th></th>\n",
       "      <th></th>\n",
       "      <th></th>\n",
       "      <th></th>\n",
       "      <th></th>\n",
       "      <th></th>\n",
       "    </tr>\n",
       "  </thead>\n",
       "  <tbody>\n",
       "    <tr>\n",
       "      <th>137739</th>\n",
       "      <td>0.0</td>\n",
       "      <td>0.0</td>\n",
       "      <td>0.0</td>\n",
       "      <td>0.0</td>\n",
       "      <td>0.0</td>\n",
       "      <td>0.0</td>\n",
       "      <td>0.0</td>\n",
       "      <td>0.0</td>\n",
       "      <td>0.0</td>\n",
       "      <td>0.0</td>\n",
       "      <td>...</td>\n",
       "      <td>0.0</td>\n",
       "      <td>0.0</td>\n",
       "      <td>0.0</td>\n",
       "      <td>0.0</td>\n",
       "      <td>0.0</td>\n",
       "      <td>0.0</td>\n",
       "      <td>0.0</td>\n",
       "      <td>0.0</td>\n",
       "      <td>0.0</td>\n",
       "      <td>0.0</td>\n",
       "    </tr>\n",
       "    <tr>\n",
       "      <th>31490</th>\n",
       "      <td>0.0</td>\n",
       "      <td>0.0</td>\n",
       "      <td>0.0</td>\n",
       "      <td>0.0</td>\n",
       "      <td>0.0</td>\n",
       "      <td>0.0</td>\n",
       "      <td>0.0</td>\n",
       "      <td>0.0</td>\n",
       "      <td>0.0</td>\n",
       "      <td>0.0</td>\n",
       "      <td>...</td>\n",
       "      <td>0.0</td>\n",
       "      <td>0.0</td>\n",
       "      <td>0.0</td>\n",
       "      <td>0.0</td>\n",
       "      <td>0.0</td>\n",
       "      <td>0.0</td>\n",
       "      <td>0.0</td>\n",
       "      <td>0.0</td>\n",
       "      <td>0.0</td>\n",
       "      <td>0.0</td>\n",
       "    </tr>\n",
       "    <tr>\n",
       "      <th>112140</th>\n",
       "      <td>0.0</td>\n",
       "      <td>0.0</td>\n",
       "      <td>0.0</td>\n",
       "      <td>0.0</td>\n",
       "      <td>0.0</td>\n",
       "      <td>0.0</td>\n",
       "      <td>0.0</td>\n",
       "      <td>0.0</td>\n",
       "      <td>0.0</td>\n",
       "      <td>0.0</td>\n",
       "      <td>...</td>\n",
       "      <td>0.0</td>\n",
       "      <td>0.0</td>\n",
       "      <td>0.0</td>\n",
       "      <td>0.0</td>\n",
       "      <td>0.0</td>\n",
       "      <td>0.0</td>\n",
       "      <td>0.0</td>\n",
       "      <td>0.0</td>\n",
       "      <td>0.0</td>\n",
       "      <td>0.0</td>\n",
       "    </tr>\n",
       "    <tr>\n",
       "      <th>59389</th>\n",
       "      <td>0.0</td>\n",
       "      <td>0.0</td>\n",
       "      <td>0.0</td>\n",
       "      <td>0.0</td>\n",
       "      <td>0.0</td>\n",
       "      <td>0.0</td>\n",
       "      <td>0.0</td>\n",
       "      <td>0.0</td>\n",
       "      <td>0.0</td>\n",
       "      <td>0.0</td>\n",
       "      <td>...</td>\n",
       "      <td>0.0</td>\n",
       "      <td>0.0</td>\n",
       "      <td>0.0</td>\n",
       "      <td>0.0</td>\n",
       "      <td>0.0</td>\n",
       "      <td>0.0</td>\n",
       "      <td>0.0</td>\n",
       "      <td>0.0</td>\n",
       "      <td>0.0</td>\n",
       "      <td>0.0</td>\n",
       "    </tr>\n",
       "    <tr>\n",
       "      <th>44061</th>\n",
       "      <td>0.0</td>\n",
       "      <td>0.0</td>\n",
       "      <td>0.0</td>\n",
       "      <td>0.0</td>\n",
       "      <td>0.0</td>\n",
       "      <td>0.0</td>\n",
       "      <td>0.0</td>\n",
       "      <td>0.0</td>\n",
       "      <td>0.0</td>\n",
       "      <td>0.0</td>\n",
       "      <td>...</td>\n",
       "      <td>0.0</td>\n",
       "      <td>0.0</td>\n",
       "      <td>0.0</td>\n",
       "      <td>0.0</td>\n",
       "      <td>0.0</td>\n",
       "      <td>0.0</td>\n",
       "      <td>0.0</td>\n",
       "      <td>0.0</td>\n",
       "      <td>0.0</td>\n",
       "      <td>0.0</td>\n",
       "    </tr>\n",
       "    <tr>\n",
       "      <th>...</th>\n",
       "      <td>...</td>\n",
       "      <td>...</td>\n",
       "      <td>...</td>\n",
       "      <td>...</td>\n",
       "      <td>...</td>\n",
       "      <td>...</td>\n",
       "      <td>...</td>\n",
       "      <td>...</td>\n",
       "      <td>...</td>\n",
       "      <td>...</td>\n",
       "      <td>...</td>\n",
       "      <td>...</td>\n",
       "      <td>...</td>\n",
       "      <td>...</td>\n",
       "      <td>...</td>\n",
       "      <td>...</td>\n",
       "      <td>...</td>\n",
       "      <td>...</td>\n",
       "      <td>...</td>\n",
       "      <td>...</td>\n",
       "      <td>...</td>\n",
       "    </tr>\n",
       "    <tr>\n",
       "      <th>450592</th>\n",
       "      <td>0.0</td>\n",
       "      <td>0.0</td>\n",
       "      <td>0.0</td>\n",
       "      <td>0.0</td>\n",
       "      <td>0.0</td>\n",
       "      <td>0.0</td>\n",
       "      <td>0.0</td>\n",
       "      <td>0.0</td>\n",
       "      <td>0.0</td>\n",
       "      <td>0.0</td>\n",
       "      <td>...</td>\n",
       "      <td>0.0</td>\n",
       "      <td>0.0</td>\n",
       "      <td>0.0</td>\n",
       "      <td>0.0</td>\n",
       "      <td>0.0</td>\n",
       "      <td>0.0</td>\n",
       "      <td>0.0</td>\n",
       "      <td>0.0</td>\n",
       "      <td>0.0</td>\n",
       "      <td>0.0</td>\n",
       "    </tr>\n",
       "    <tr>\n",
       "      <th>260940</th>\n",
       "      <td>0.0</td>\n",
       "      <td>0.0</td>\n",
       "      <td>0.0</td>\n",
       "      <td>0.0</td>\n",
       "      <td>0.0</td>\n",
       "      <td>0.0</td>\n",
       "      <td>0.0</td>\n",
       "      <td>0.0</td>\n",
       "      <td>0.0</td>\n",
       "      <td>0.0</td>\n",
       "      <td>...</td>\n",
       "      <td>0.0</td>\n",
       "      <td>0.0</td>\n",
       "      <td>0.0</td>\n",
       "      <td>0.0</td>\n",
       "      <td>0.0</td>\n",
       "      <td>0.0</td>\n",
       "      <td>0.0</td>\n",
       "      <td>0.0</td>\n",
       "      <td>0.0</td>\n",
       "      <td>0.0</td>\n",
       "    </tr>\n",
       "    <tr>\n",
       "      <th>332128</th>\n",
       "      <td>0.0</td>\n",
       "      <td>0.0</td>\n",
       "      <td>0.0</td>\n",
       "      <td>0.0</td>\n",
       "      <td>0.0</td>\n",
       "      <td>0.0</td>\n",
       "      <td>0.0</td>\n",
       "      <td>0.0</td>\n",
       "      <td>0.0</td>\n",
       "      <td>0.0</td>\n",
       "      <td>...</td>\n",
       "      <td>0.0</td>\n",
       "      <td>0.0</td>\n",
       "      <td>0.0</td>\n",
       "      <td>0.0</td>\n",
       "      <td>0.0</td>\n",
       "      <td>0.0</td>\n",
       "      <td>0.0</td>\n",
       "      <td>0.0</td>\n",
       "      <td>0.0</td>\n",
       "      <td>0.0</td>\n",
       "    </tr>\n",
       "    <tr>\n",
       "      <th>383814</th>\n",
       "      <td>0.0</td>\n",
       "      <td>0.0</td>\n",
       "      <td>0.0</td>\n",
       "      <td>0.0</td>\n",
       "      <td>0.0</td>\n",
       "      <td>0.0</td>\n",
       "      <td>0.0</td>\n",
       "      <td>0.0</td>\n",
       "      <td>0.0</td>\n",
       "      <td>0.0</td>\n",
       "      <td>...</td>\n",
       "      <td>0.0</td>\n",
       "      <td>0.0</td>\n",
       "      <td>0.0</td>\n",
       "      <td>0.0</td>\n",
       "      <td>0.0</td>\n",
       "      <td>0.0</td>\n",
       "      <td>0.0</td>\n",
       "      <td>0.0</td>\n",
       "      <td>0.0</td>\n",
       "      <td>0.0</td>\n",
       "    </tr>\n",
       "    <tr>\n",
       "      <th>347236</th>\n",
       "      <td>0.0</td>\n",
       "      <td>0.0</td>\n",
       "      <td>0.0</td>\n",
       "      <td>0.0</td>\n",
       "      <td>0.0</td>\n",
       "      <td>0.0</td>\n",
       "      <td>0.0</td>\n",
       "      <td>0.0</td>\n",
       "      <td>0.0</td>\n",
       "      <td>0.0</td>\n",
       "      <td>...</td>\n",
       "      <td>0.0</td>\n",
       "      <td>0.0</td>\n",
       "      <td>0.0</td>\n",
       "      <td>0.0</td>\n",
       "      <td>0.0</td>\n",
       "      <td>0.0</td>\n",
       "      <td>0.0</td>\n",
       "      <td>0.0</td>\n",
       "      <td>0.0</td>\n",
       "      <td>0.0</td>\n",
       "    </tr>\n",
       "  </tbody>\n",
       "</table>\n",
       "<p>10000 rows × 5336 columns</p>\n",
       "</div>"
      ],
      "text/plain": [
       "        \"baker's semi-sweet baking chocolate\"  \\\n",
       "id                                              \n",
       "137739                                    0.0   \n",
       "31490                                     0.0   \n",
       "112140                                    0.0   \n",
       "59389                                     0.0   \n",
       "44061                                     0.0   \n",
       "...                                       ...   \n",
       "450592                                    0.0   \n",
       "260940                                    0.0   \n",
       "332128                                    0.0   \n",
       "383814                                    0.0   \n",
       "347236                                    0.0   \n",
       "\n",
       "        \"campbell's cream of chicken soup\"  \\\n",
       "id                                           \n",
       "137739                                 0.0   \n",
       "31490                                  0.0   \n",
       "112140                                 0.0   \n",
       "59389                                  0.0   \n",
       "44061                                  0.0   \n",
       "...                                    ...   \n",
       "450592                                 0.0   \n",
       "260940                                 0.0   \n",
       "332128                                 0.0   \n",
       "383814                                 0.0   \n",
       "347236                                 0.0   \n",
       "\n",
       "        \"campbell's cream of mushroom soup\"  \\\n",
       "id                                            \n",
       "137739                                  0.0   \n",
       "31490                                   0.0   \n",
       "112140                                  0.0   \n",
       "59389                                   0.0   \n",
       "44061                                   0.0   \n",
       "...                                     ...   \n",
       "450592                                  0.0   \n",
       "260940                                  0.0   \n",
       "332128                                  0.0   \n",
       "383814                                  0.0   \n",
       "347236                                  0.0   \n",
       "\n",
       "        \"campbell's golden mushroom soup\"  \\\n",
       "id                                          \n",
       "137739                                0.0   \n",
       "31490                                 0.0   \n",
       "112140                                0.0   \n",
       "59389                                 0.0   \n",
       "44061                                 0.0   \n",
       "...                                   ...   \n",
       "450592                                0.0   \n",
       "260940                                0.0   \n",
       "332128                                0.0   \n",
       "383814                                0.0   \n",
       "347236                                0.0   \n",
       "\n",
       "        \"campbell's healthy request cream of broccoli soup\"  \\\n",
       "id                                                            \n",
       "137739                                                0.0     \n",
       "31490                                                 0.0     \n",
       "112140                                                0.0     \n",
       "59389                                                 0.0     \n",
       "44061                                                 0.0     \n",
       "...                                                   ...     \n",
       "450592                                                0.0     \n",
       "260940                                                0.0     \n",
       "332128                                                0.0     \n",
       "383814                                                0.0     \n",
       "347236                                                0.0     \n",
       "\n",
       "        \"campbell's tomato soup\"  \"coleman's dry mustard\"  \\\n",
       "id                                                          \n",
       "137739                       0.0                      0.0   \n",
       "31490                        0.0                      0.0   \n",
       "112140                       0.0                      0.0   \n",
       "59389                        0.0                      0.0   \n",
       "44061                        0.0                      0.0   \n",
       "...                          ...                      ...   \n",
       "450592                       0.0                      0.0   \n",
       "260940                       0.0                      0.0   \n",
       "332128                       0.0                      0.0   \n",
       "383814                       0.0                      0.0   \n",
       "347236                       0.0                      0.0   \n",
       "\n",
       "        \"confectioners' sugar\"  \"devil's food cake mix\"  \\\n",
       "id                                                        \n",
       "137739                     0.0                      0.0   \n",
       "31490                      0.0                      0.0   \n",
       "112140                     0.0                      0.0   \n",
       "59389                      0.0                      0.0   \n",
       "44061                      0.0                      0.0   \n",
       "...                        ...                      ...   \n",
       "450592                     0.0                      0.0   \n",
       "260940                     0.0                      0.0   \n",
       "332128                     0.0                      0.0   \n",
       "383814                     0.0                      0.0   \n",
       "347236                     0.0                      0.0   \n",
       "\n",
       "        \"eggland's best large egg\"  ...  'ziploc bag'  'ziploc bags'  \\\n",
       "id                                  ...                                \n",
       "137739                         0.0  ...           0.0            0.0   \n",
       "31490                          0.0  ...           0.0            0.0   \n",
       "112140                         0.0  ...           0.0            0.0   \n",
       "59389                          0.0  ...           0.0            0.0   \n",
       "44061                          0.0  ...           0.0            0.0   \n",
       "...                            ...  ...           ...            ...   \n",
       "450592                         0.0  ...           0.0            0.0   \n",
       "260940                         0.0  ...           0.0            0.0   \n",
       "332128                         0.0  ...           0.0            0.0   \n",
       "383814                         0.0  ...           0.0            0.0   \n",
       "347236                         0.0  ...           0.0            0.0   \n",
       "\n",
       "        'ziti pasta'  'zucchini with italian-style tomato sauce'  'zucchini'  \\\n",
       "id                                                                             \n",
       "137739           0.0                                         0.0         0.0   \n",
       "31490            0.0                                         0.0         0.0   \n",
       "112140           0.0                                         0.0         0.0   \n",
       "59389            0.0                                         0.0         0.0   \n",
       "44061            0.0                                         0.0         0.0   \n",
       "...              ...                                         ...         ...   \n",
       "450592           0.0                                         0.0         0.0   \n",
       "260940           0.0                                         0.0         0.0   \n",
       "332128           0.0                                         0.0         0.0   \n",
       "383814           0.0                                         0.0         0.0   \n",
       "347236           0.0                                         0.0         0.0   \n",
       "\n",
       "        juice and rind of'  juice and zest of'  juice of'  rind of'  zest of'  \n",
       "id                                                                             \n",
       "137739                 0.0                 0.0        0.0       0.0       0.0  \n",
       "31490                  0.0                 0.0        0.0       0.0       0.0  \n",
       "112140                 0.0                 0.0        0.0       0.0       0.0  \n",
       "59389                  0.0                 0.0        0.0       0.0       0.0  \n",
       "44061                  0.0                 0.0        0.0       0.0       0.0  \n",
       "...                    ...                 ...        ...       ...       ...  \n",
       "450592                 0.0                 0.0        0.0       0.0       0.0  \n",
       "260940                 0.0                 0.0        0.0       0.0       0.0  \n",
       "332128                 0.0                 0.0        0.0       0.0       0.0  \n",
       "383814                 0.0                 0.0        0.0       0.0       0.0  \n",
       "347236                 0.0                 0.0        0.0       0.0       0.0  \n",
       "\n",
       "[10000 rows x 5336 columns]"
      ]
     },
     "execution_count": 12,
     "metadata": {},
     "output_type": "execute_result"
    }
   ],
   "source": [
    "df_tfidf = pd.DataFrame(response.toarray(), columns=tfidf.get_feature_names(), index=df.index)\n",
    "df_tfidf"
   ]
  },
  {
   "cell_type": "code",
   "execution_count": 15,
   "metadata": {
    "colab": {
     "base_uri": "https://localhost:8080/",
     "height": 284
    },
    "colab_type": "code",
    "id": "dGUvTfq9mZTI",
    "outputId": "212c7d56-9010-40a2-8da0-5874cdc4f44f"
   },
   "outputs": [
    {
     "data": {
      "text/html": [
       "<div>\n",
       "<style scoped>\n",
       "    .dataframe tbody tr th:only-of-type {\n",
       "        vertical-align: middle;\n",
       "    }\n",
       "\n",
       "    .dataframe tbody tr th {\n",
       "        vertical-align: top;\n",
       "    }\n",
       "\n",
       "    .dataframe thead th {\n",
       "        text-align: right;\n",
       "    }\n",
       "</style>\n",
       "<table border=\"1\" class=\"dataframe\">\n",
       "  <thead>\n",
       "    <tr style=\"text-align: right;\">\n",
       "      <th>id</th>\n",
       "      <th>137739</th>\n",
       "      <th>31490</th>\n",
       "      <th>112140</th>\n",
       "      <th>59389</th>\n",
       "      <th>44061</th>\n",
       "      <th>5289</th>\n",
       "      <th>25274</th>\n",
       "      <th>67888</th>\n",
       "      <th>70971</th>\n",
       "      <th>109439</th>\n",
       "      <th>...</th>\n",
       "      <th>30436</th>\n",
       "      <th>165084</th>\n",
       "      <th>154307</th>\n",
       "      <th>502862</th>\n",
       "      <th>143530</th>\n",
       "      <th>450592</th>\n",
       "      <th>260940</th>\n",
       "      <th>332128</th>\n",
       "      <th>383814</th>\n",
       "      <th>347236</th>\n",
       "    </tr>\n",
       "    <tr>\n",
       "      <th>id</th>\n",
       "      <th></th>\n",
       "      <th></th>\n",
       "      <th></th>\n",
       "      <th></th>\n",
       "      <th></th>\n",
       "      <th></th>\n",
       "      <th></th>\n",
       "      <th></th>\n",
       "      <th></th>\n",
       "      <th></th>\n",
       "      <th></th>\n",
       "      <th></th>\n",
       "      <th></th>\n",
       "      <th></th>\n",
       "      <th></th>\n",
       "      <th></th>\n",
       "      <th></th>\n",
       "      <th></th>\n",
       "      <th></th>\n",
       "      <th></th>\n",
       "      <th></th>\n",
       "    </tr>\n",
       "  </thead>\n",
       "  <tbody>\n",
       "    <tr>\n",
       "      <th>137739</th>\n",
       "      <td>1.000000</td>\n",
       "      <td>0.0</td>\n",
       "      <td>0.017045</td>\n",
       "      <td>0.046421</td>\n",
       "      <td>0.018572</td>\n",
       "      <td>0.000000</td>\n",
       "      <td>0.0</td>\n",
       "      <td>0.050518</td>\n",
       "      <td>0.0</td>\n",
       "      <td>0.0</td>\n",
       "      <td>...</td>\n",
       "      <td>0.000000</td>\n",
       "      <td>0.024395</td>\n",
       "      <td>0.000000</td>\n",
       "      <td>0.024847</td>\n",
       "      <td>0.020202</td>\n",
       "      <td>0.015075</td>\n",
       "      <td>0.048504</td>\n",
       "      <td>0.028642</td>\n",
       "      <td>0.0</td>\n",
       "      <td>0.064591</td>\n",
       "    </tr>\n",
       "    <tr>\n",
       "      <th>31490</th>\n",
       "      <td>0.000000</td>\n",
       "      <td>1.0</td>\n",
       "      <td>0.000000</td>\n",
       "      <td>0.000000</td>\n",
       "      <td>0.000000</td>\n",
       "      <td>0.076615</td>\n",
       "      <td>0.0</td>\n",
       "      <td>0.000000</td>\n",
       "      <td>0.0</td>\n",
       "      <td>0.0</td>\n",
       "      <td>...</td>\n",
       "      <td>0.000000</td>\n",
       "      <td>0.000000</td>\n",
       "      <td>0.000000</td>\n",
       "      <td>0.044858</td>\n",
       "      <td>0.000000</td>\n",
       "      <td>0.000000</td>\n",
       "      <td>0.000000</td>\n",
       "      <td>0.053798</td>\n",
       "      <td>0.0</td>\n",
       "      <td>0.057230</td>\n",
       "    </tr>\n",
       "    <tr>\n",
       "      <th>112140</th>\n",
       "      <td>0.017045</td>\n",
       "      <td>0.0</td>\n",
       "      <td>1.000000</td>\n",
       "      <td>0.014352</td>\n",
       "      <td>0.015590</td>\n",
       "      <td>0.000000</td>\n",
       "      <td>0.0</td>\n",
       "      <td>0.067511</td>\n",
       "      <td>0.0</td>\n",
       "      <td>0.0</td>\n",
       "      <td>...</td>\n",
       "      <td>0.059354</td>\n",
       "      <td>0.020478</td>\n",
       "      <td>0.000000</td>\n",
       "      <td>0.000000</td>\n",
       "      <td>0.016959</td>\n",
       "      <td>0.012655</td>\n",
       "      <td>0.088471</td>\n",
       "      <td>0.000000</td>\n",
       "      <td>0.0</td>\n",
       "      <td>0.028530</td>\n",
       "    </tr>\n",
       "    <tr>\n",
       "      <th>59389</th>\n",
       "      <td>0.046421</td>\n",
       "      <td>0.0</td>\n",
       "      <td>0.014352</td>\n",
       "      <td>1.000000</td>\n",
       "      <td>0.048401</td>\n",
       "      <td>0.000000</td>\n",
       "      <td>0.0</td>\n",
       "      <td>0.010114</td>\n",
       "      <td>0.0</td>\n",
       "      <td>0.0</td>\n",
       "      <td>...</td>\n",
       "      <td>0.000000</td>\n",
       "      <td>0.063576</td>\n",
       "      <td>0.000000</td>\n",
       "      <td>0.000000</td>\n",
       "      <td>0.017010</td>\n",
       "      <td>0.012693</td>\n",
       "      <td>0.072353</td>\n",
       "      <td>0.000000</td>\n",
       "      <td>0.0</td>\n",
       "      <td>0.028730</td>\n",
       "    </tr>\n",
       "    <tr>\n",
       "      <th>44061</th>\n",
       "      <td>0.018572</td>\n",
       "      <td>0.0</td>\n",
       "      <td>0.015590</td>\n",
       "      <td>0.048401</td>\n",
       "      <td>1.000000</td>\n",
       "      <td>0.000000</td>\n",
       "      <td>0.0</td>\n",
       "      <td>0.068301</td>\n",
       "      <td>0.0</td>\n",
       "      <td>0.0</td>\n",
       "      <td>...</td>\n",
       "      <td>0.000000</td>\n",
       "      <td>0.069064</td>\n",
       "      <td>0.021259</td>\n",
       "      <td>0.000000</td>\n",
       "      <td>0.049954</td>\n",
       "      <td>0.013788</td>\n",
       "      <td>0.050573</td>\n",
       "      <td>0.000000</td>\n",
       "      <td>0.0</td>\n",
       "      <td>0.000000</td>\n",
       "    </tr>\n",
       "  </tbody>\n",
       "</table>\n",
       "<p>5 rows × 10000 columns</p>\n",
       "</div>"
      ],
      "text/plain": [
       "id        137739  31490     112140    59389     44061     5289    25274   \\\n",
       "id                                                                         \n",
       "137739  1.000000     0.0  0.017045  0.046421  0.018572  0.000000     0.0   \n",
       "31490   0.000000     1.0  0.000000  0.000000  0.000000  0.076615     0.0   \n",
       "112140  0.017045     0.0  1.000000  0.014352  0.015590  0.000000     0.0   \n",
       "59389   0.046421     0.0  0.014352  1.000000  0.048401  0.000000     0.0   \n",
       "44061   0.018572     0.0  0.015590  0.048401  1.000000  0.000000     0.0   \n",
       "\n",
       "id        67888   70971   109439  ...    30436     165084    154307    502862  \\\n",
       "id                                ...                                           \n",
       "137739  0.050518     0.0     0.0  ...  0.000000  0.024395  0.000000  0.024847   \n",
       "31490   0.000000     0.0     0.0  ...  0.000000  0.000000  0.000000  0.044858   \n",
       "112140  0.067511     0.0     0.0  ...  0.059354  0.020478  0.000000  0.000000   \n",
       "59389   0.010114     0.0     0.0  ...  0.000000  0.063576  0.000000  0.000000   \n",
       "44061   0.068301     0.0     0.0  ...  0.000000  0.069064  0.021259  0.000000   \n",
       "\n",
       "id        143530    450592    260940    332128  383814    347236  \n",
       "id                                                                \n",
       "137739  0.020202  0.015075  0.048504  0.028642     0.0  0.064591  \n",
       "31490   0.000000  0.000000  0.000000  0.053798     0.0  0.057230  \n",
       "112140  0.016959  0.012655  0.088471  0.000000     0.0  0.028530  \n",
       "59389   0.017010  0.012693  0.072353  0.000000     0.0  0.028730  \n",
       "44061   0.049954  0.013788  0.050573  0.000000     0.0  0.000000  \n",
       "\n",
       "[5 rows x 10000 columns]"
      ]
     },
     "execution_count": 15,
     "metadata": {},
     "output_type": "execute_result"
    }
   ],
   "source": [
    "cosine_similarity_array = sklearn.metrics.pairwise.cosine_similarity(df_tfidf)\n",
    "df_similarity = pd.DataFrame(cosine_similarity_array, columns=df_tfidf.index).set_index(df_tfidf.index)\n",
    "df_similarity.head()"
   ]
  },
  {
   "cell_type": "markdown",
   "metadata": {},
   "source": [
    "Pickle the model"
   ]
  },
  {
   "cell_type": "code",
   "execution_count": 13,
   "metadata": {},
   "outputs": [],
   "source": [
    "with open('model-tfidf.pkl', 'wb') as f:\n",
    "    data = pickle.dump(df_tfidf, f)"
   ]
  },
  {
   "cell_type": "code",
   "execution_count": 14,
   "metadata": {},
   "outputs": [
    {
     "ename": "NameError",
     "evalue": "name 'df_similarity' is not defined",
     "output_type": "error",
     "traceback": [
      "\u001b[0;31m---------------------------------------------------------------------------\u001b[0m",
      "\u001b[0;31mNameError\u001b[0m                                 Traceback (most recent call last)",
      "\u001b[0;32m<ipython-input-14-19c608efb925>\u001b[0m in \u001b[0;36m<module>\u001b[0;34m\u001b[0m\n\u001b[1;32m      1\u001b[0m \u001b[0;32mwith\u001b[0m \u001b[0mopen\u001b[0m\u001b[0;34m(\u001b[0m\u001b[0;34m'model-csm.pkl'\u001b[0m\u001b[0;34m,\u001b[0m \u001b[0;34m'wb'\u001b[0m\u001b[0;34m)\u001b[0m \u001b[0;32mas\u001b[0m \u001b[0mf\u001b[0m\u001b[0;34m:\u001b[0m\u001b[0;34m\u001b[0m\u001b[0;34m\u001b[0m\u001b[0m\n\u001b[0;32m----> 2\u001b[0;31m     \u001b[0mdata\u001b[0m \u001b[0;34m=\u001b[0m \u001b[0mpickle\u001b[0m\u001b[0;34m.\u001b[0m\u001b[0mdump\u001b[0m\u001b[0;34m(\u001b[0m\u001b[0mdf_similarity\u001b[0m\u001b[0;34m,\u001b[0m \u001b[0mf\u001b[0m\u001b[0;34m)\u001b[0m\u001b[0;34m\u001b[0m\u001b[0;34m\u001b[0m\u001b[0m\n\u001b[0m",
      "\u001b[0;31mNameError\u001b[0m: name 'df_similarity' is not defined"
     ]
    }
   ],
   "source": [
    "with open('model-csm.pkl', 'wb') as f:\n",
    "    data = pickle.dump(df_similarity, f)"
   ]
  },
  {
   "cell_type": "markdown",
   "metadata": {
    "colab_type": "text",
    "id": "HFsWu_t-oSUv"
   },
   "source": [
    "## Combining the results"
   ]
  },
  {
   "cell_type": "code",
   "execution_count": 46,
   "metadata": {
    "colab": {},
    "colab_type": "code",
    "id": "bL8bYe-QWJU8"
   },
   "outputs": [],
   "source": [
    "# look for ingredients that are similar to cod and different from beef and kale\n",
    "# test for not a valid ingred. set:\n",
    "#  w1 = [\"'cod'\", \"'squash'\", \"'rainier cherries'\"]\n",
    "# w1 = [\"'cod fillet'\", \"'squash'\"]\n",
    "# w1 = [\"'cod'\", \"'squash'\"]\n",
    "# w2 = [\"'beef'\", \"'kale'\"]\n",
    "\n",
    "number_picked = 1\n",
    "\n",
    "with open('model-w2v.pkl', 'rb') as f:\n",
    "    model = pickle.load(f)\n",
    "\n",
    "with open('model-tfidf.pkl', 'rb') as f:\n",
    "    df_tfidf = pickle.load(f)\n",
    "    \n",
    "with open('model-csm.pkl', 'rb') as f:\n",
    "    df_similarity = pickle.load(f)    "
   ]
  },
  {
   "cell_type": "code",
   "execution_count": 41,
   "metadata": {},
   "outputs": [],
   "source": []
  },
  {
   "cell_type": "code",
   "execution_count": null,
   "metadata": {
    "colab": {},
    "colab_type": "code",
    "id": "bL8bYe-QWJU8"
   },
   "outputs": [],
   "source": [
    "w_pos = [\"'chocolate'\", \"'milk'\"]\n",
    "w_neg = \"'beef'\"\n",
    "number_picked = 2\n",
    "\n",
    "fun.get_recipes(w_pos, [w_neg], number_picked, model, df_tfidf, df_similarity)"
   ]
  },
  {
   "cell_type": "code",
   "execution_count": null,
   "metadata": {
    "colab": {},
    "colab_type": "code",
    "collapsed": true,
    "id": "FVlXu3Spojtz"
   },
   "outputs": [],
   "source": []
  },
  {
   "cell_type": "code",
   "execution_count": null,
   "metadata": {
    "colab": {},
    "colab_type": "code",
    "collapsed": true,
    "id": "NWd4dCuQqtYM"
   },
   "outputs": [],
   "source": []
  },
  {
   "cell_type": "code",
   "execution_count": null,
   "metadata": {
    "colab": {},
    "colab_type": "code",
    "collapsed": true,
    "id": "sAElUGtBBdfj"
   },
   "outputs": [],
   "source": []
  }
 ],
 "metadata": {
  "colab": {
   "collapsed_sections": [],
   "name": "implimentation.ipynb",
   "provenance": []
  },
  "kernelspec": {
   "display_name": "python (pick)",
   "language": "python",
   "name": "pick"
  },
  "language_info": {
   "codemirror_mode": {
    "name": "ipython",
    "version": 3
   },
   "file_extension": ".py",
   "mimetype": "text/x-python",
   "name": "python",
   "nbconvert_exporter": "python",
   "pygments_lexer": "ipython3",
   "version": "3.7.6"
  }
 },
 "nbformat": 4,
 "nbformat_minor": 1
}
