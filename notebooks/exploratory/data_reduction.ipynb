{
  "nbformat": 4,
  "nbformat_minor": 0,
  "metadata": {
    "kernelspec": {
      "display_name": "Python 3 (learn-env)",
      "language": "python",
      "name": "learn-env"
    },
    "language_info": {
      "codemirror_mode": {
        "name": "ipython",
        "version": 3
      },
      "file_extension": ".py",
      "mimetype": "text/x-python",
      "name": "python",
      "nbconvert_exporter": "python",
      "pygments_lexer": "ipython3",
      "version": "3.6.6"
    },
    "colab": {
      "name": "capstone_work_0.2.ipynb",
      "provenance": []
    }
  },
  "cells": [
    {
      "cell_type": "markdown",
      "metadata": {
        "id": "HTdWBVX4F-ug",
        "colab_type": "text"
      },
      "source": [
        "# Preliminary steps"
      ]
    },
    {
      "cell_type": "markdown",
      "metadata": {
        "id": "XBejshcWF-un",
        "colab_type": "text"
      },
      "source": [
        "### Import dependencies"
      ]
    },
    {
      "cell_type": "code",
      "metadata": {
        "id": "ABJ1M2JUF-ut",
        "colab_type": "code",
        "colab": {}
      },
      "source": [
        "import pandas as pd\n",
        "from pandas.core.common import flatten\n",
        "import sklearn.metrics\n",
        "from sklearn.feature_extraction.text import CountVectorizer\n",
        "from sklearn.feature_extraction.text import TfidfVectorizer\n",
        "import nltk\n",
        "from nltk.corpus import stopwords\n",
        "from nltk import SnowballStemmer as snow"
      ],
      "execution_count": 0,
      "outputs": []
    },
    {
      "cell_type": "markdown",
      "metadata": {
        "id": "IO64qygUF-u4",
        "colab_type": "text"
      },
      "source": [
        "### Load file as a dataframe"
      ]
    },
    {
      "cell_type": "code",
      "metadata": {
        "id": "wrP4vkT0F-u6",
        "colab_type": "code",
        "colab": {}
      },
      "source": [
        "file = '/content/RAW_recipes.csv'\n",
        "df = pd.read_csv(file)"
      ],
      "execution_count": 0,
      "outputs": []
    },
    {
      "cell_type": "markdown",
      "metadata": {
        "id": "s2mNvBq2F-vL",
        "colab_type": "text"
      },
      "source": [
        "# EDA"
      ]
    },
    {
      "cell_type": "markdown",
      "metadata": {
        "id": "92xpT1ojF-vO",
        "colab_type": "text"
      },
      "source": [
        "### Explore the data"
      ]
    },
    {
      "cell_type": "code",
      "metadata": {
        "id": "eSGVuQzkF-vR",
        "colab_type": "code",
        "colab": {
          "base_uri": "https://localhost:8080/",
          "height": 34
        },
        "outputId": "ab6e5e9f-4571-467d-d90d-9d7a216752f6"
      },
      "source": [
        "print(f\"There are {df.shape[0]} rows (recipes) in the dataframe.\")"
      ],
      "execution_count": 33,
      "outputs": [
        {
          "output_type": "stream",
          "text": [
            "There are 231637 rows (recipes) in the dataframe.\n"
          ],
          "name": "stdout"
        }
      ]
    },
    {
      "cell_type": "code",
      "metadata": {
        "id": "YXgXA3sCF-vb",
        "colab_type": "code",
        "colab": {
          "base_uri": "https://localhost:8080/",
          "height": 136
        },
        "outputId": "64854f6c-b7c7-40d7-bd1f-36e11ef9d172"
      },
      "source": [
        "print('The columns are:') \n",
        "print(df.columns)\n",
        "print(f'\\nThere are {df.shape[1]} columns.')"
      ],
      "execution_count": 34,
      "outputs": [
        {
          "output_type": "stream",
          "text": [
            "The columns are:\n",
            "Index(['name', 'id', 'minutes', 'contributor_id', 'submitted', 'tags',\n",
            "       'nutrition', 'n_steps', 'steps', 'description', 'ingredients',\n",
            "       'n_ingredients'],\n",
            "      dtype='object')\n",
            "\n",
            "There are 12 columns.\n"
          ],
          "name": "stdout"
        }
      ]
    },
    {
      "cell_type": "markdown",
      "metadata": {
        "id": "Ou0h62_RF-vk",
        "colab_type": "text"
      },
      "source": [
        "Look at a sample of the data:"
      ]
    },
    {
      "cell_type": "code",
      "metadata": {
        "id": "P_ys1VYDF-vs",
        "colab_type": "code",
        "colab": {
          "base_uri": "https://localhost:8080/",
          "height": 468
        },
        "outputId": "2e6f7c80-d1d9-4dd7-af00-969c1b125d04"
      },
      "source": [
        "df.sample(3)"
      ],
      "execution_count": 36,
      "outputs": [
        {
          "output_type": "execute_result",
          "data": {
            "text/html": [
              "<div>\n",
              "<style scoped>\n",
              "    .dataframe tbody tr th:only-of-type {\n",
              "        vertical-align: middle;\n",
              "    }\n",
              "\n",
              "    .dataframe tbody tr th {\n",
              "        vertical-align: top;\n",
              "    }\n",
              "\n",
              "    .dataframe thead th {\n",
              "        text-align: right;\n",
              "    }\n",
              "</style>\n",
              "<table border=\"1\" class=\"dataframe\">\n",
              "  <thead>\n",
              "    <tr style=\"text-align: right;\">\n",
              "      <th></th>\n",
              "      <th>name</th>\n",
              "      <th>id</th>\n",
              "      <th>minutes</th>\n",
              "      <th>contributor_id</th>\n",
              "      <th>submitted</th>\n",
              "      <th>tags</th>\n",
              "      <th>nutrition</th>\n",
              "      <th>n_steps</th>\n",
              "      <th>steps</th>\n",
              "      <th>description</th>\n",
              "      <th>ingredients</th>\n",
              "      <th>n_ingredients</th>\n",
              "    </tr>\n",
              "  </thead>\n",
              "  <tbody>\n",
              "    <tr>\n",
              "      <th>45080</th>\n",
              "      <td>chicken parmesan express</td>\n",
              "      <td>3166</td>\n",
              "      <td>20</td>\n",
              "      <td>1535</td>\n",
              "      <td>1999-10-06</td>\n",
              "      <td>['30-minutes-or-less', 'time-to-make', 'course...</td>\n",
              "      <td>[698.9, 30.0, 32.0, 34.0, 89.0, 47.0, 27.0]</td>\n",
              "      <td>11</td>\n",
              "      <td>['place the chicken between two sheets of heav...</td>\n",
              "      <td>an easy dish with lots of flavor. it is one of...</td>\n",
              "      <td>['angel hair pasta', 'boneless skinless chicke...</td>\n",
              "      <td>9</td>\n",
              "    </tr>\n",
              "    <tr>\n",
              "      <th>122474</th>\n",
              "      <td>lemon  ginger and mint fizz</td>\n",
              "      <td>282319</td>\n",
              "      <td>5</td>\n",
              "      <td>324136</td>\n",
              "      <td>2008-01-29</td>\n",
              "      <td>['15-minutes-or-less', 'time-to-make', 'course...</td>\n",
              "      <td>[7.9, 0.0, 0.0, 0.0, 0.0, 0.0, 1.0]</td>\n",
              "      <td>3</td>\n",
              "      <td>['place ginger beer , lemonade and bitters in ...</td>\n",
              "      <td>good taste magazine november 2006</td>\n",
              "      <td>['diet ginger beer', 'angostura bitters', 'die...</td>\n",
              "      <td>6</td>\n",
              "    </tr>\n",
              "    <tr>\n",
              "      <th>68671</th>\n",
              "      <td>curried rice and fruit salad</td>\n",
              "      <td>63805</td>\n",
              "      <td>65</td>\n",
              "      <td>37779</td>\n",
              "      <td>2003-06-05</td>\n",
              "      <td>['weeknight', 'time-to-make', 'course', 'main-...</td>\n",
              "      <td>[379.1, 11.0, 86.0, 16.0, 12.0, 14.0, 24.0]</td>\n",
              "      <td>18</td>\n",
              "      <td>['wash rice until water runs clear', 'drain we...</td>\n",
              "      <td>this rice salad has exotic flavors that make a...</td>\n",
              "      <td>['basmati rice', 'peanut oil', 'green onion', ...</td>\n",
              "      <td>19</td>\n",
              "    </tr>\n",
              "  </tbody>\n",
              "</table>\n",
              "</div>"
            ],
            "text/plain": [
              "                                name  ...  n_ingredients\n",
              "45080       chicken parmesan express  ...              9\n",
              "122474   lemon  ginger and mint fizz  ...              6\n",
              "68671   curried rice and fruit salad  ...             19\n",
              "\n",
              "[3 rows x 12 columns]"
            ]
          },
          "metadata": {
            "tags": []
          },
          "execution_count": 36
        }
      ]
    },
    {
      "cell_type": "markdown",
      "metadata": {
        "id": "zlKeMLKZF-v1",
        "colab_type": "text"
      },
      "source": [
        "# Preparing the data"
      ]
    },
    {
      "cell_type": "markdown",
      "metadata": {
        "id": "oYahwfJAF-v4",
        "colab_type": "text"
      },
      "source": [
        "## Gluten free recipes"
      ]
    },
    {
      "cell_type": "markdown",
      "metadata": {
        "id": "e1eY_L35F-v7",
        "colab_type": "text"
      },
      "source": [
        "Look for recipes that are Gluten free, ie - do not contain wheat, barley, rye, or oats. "
      ]
    },
    {
      "cell_type": "code",
      "metadata": {
        "id": "df9E8zWOF-v8",
        "colab_type": "code",
        "colab": {}
      },
      "source": [
        "df_gf = df[(df['description'].str.contains('gluten free') |\n",
        "           df['description'].str.contains('gluten intolerant') |\n",
        "           df['ingredients'].str.contains('gluten free') |\n",
        "           df['ingredients'].str.contains('gluten intolerant') |\n",
        "           df['name'].str.contains('gluten free') |\n",
        "           df['name'].str.contains('gluten intolerant') |\n",
        "           ~ df['ingredients'].str.contains('oat|rye|barley|wheat|flour') \n",
        "           )]"
      ],
      "execution_count": 0,
      "outputs": []
    },
    {
      "cell_type": "code",
      "metadata": {
        "id": "I7QcrTJuF-wF",
        "colab_type": "code",
        "colab": {},
        "outputId": "78353af6-893e-4cdf-806f-b10a5ae94b04"
      },
      "source": [
        "print(f\"There are {df_gf.shape[0]} gluten free recipes.\")"
      ],
      "execution_count": 0,
      "outputs": [
        {
          "output_type": "stream",
          "text": [
            "There are 217325 gluten free recipes.\n"
          ],
          "name": "stdout"
        }
      ]
    },
    {
      "cell_type": "markdown",
      "metadata": {
        "id": "V2aJVxJoF-wQ",
        "colab_type": "text"
      },
      "source": [
        "### Subsetting"
      ]
    },
    {
      "cell_type": "markdown",
      "metadata": {
        "id": "OJn4OM9tF-wR",
        "colab_type": "text"
      },
      "source": [
        "Take a subset of the data (plus only the relevant features)"
      ]
    },
    {
      "cell_type": "code",
      "metadata": {
        "id": "PpmKfmUcF-wT",
        "colab_type": "code",
        "colab": {}
      },
      "source": [
        "df_recipes = df_gf.loc[:,['id', 'name', 'ingredients', 'nutrition']]"
      ],
      "execution_count": 0,
      "outputs": []
    },
    {
      "cell_type": "markdown",
      "metadata": {
        "id": "1ZHA3ksXF-wb",
        "colab_type": "text"
      },
      "source": [
        "Set the index as the recipe unique id"
      ]
    },
    {
      "cell_type": "code",
      "metadata": {
        "id": "R1V89lNhF-wd",
        "colab_type": "code",
        "colab": {
          "base_uri": "https://localhost:8080/",
          "height": 235
        },
        "outputId": "1546a87c-8bce-45ee-c916-cb3e3941fc7c"
      },
      "source": [
        "df_recipes = df_recipes.set_index('id')\n",
        "df_recipes.head()"
      ],
      "execution_count": 40,
      "outputs": [
        {
          "output_type": "execute_result",
          "data": {
            "text/html": [
              "<div>\n",
              "<style scoped>\n",
              "    .dataframe tbody tr th:only-of-type {\n",
              "        vertical-align: middle;\n",
              "    }\n",
              "\n",
              "    .dataframe tbody tr th {\n",
              "        vertical-align: top;\n",
              "    }\n",
              "\n",
              "    .dataframe thead th {\n",
              "        text-align: right;\n",
              "    }\n",
              "</style>\n",
              "<table border=\"1\" class=\"dataframe\">\n",
              "  <thead>\n",
              "    <tr style=\"text-align: right;\">\n",
              "      <th></th>\n",
              "      <th>name</th>\n",
              "      <th>ingredients</th>\n",
              "      <th>nutrition</th>\n",
              "    </tr>\n",
              "    <tr>\n",
              "      <th>id</th>\n",
              "      <th></th>\n",
              "      <th></th>\n",
              "      <th></th>\n",
              "    </tr>\n",
              "  </thead>\n",
              "  <tbody>\n",
              "    <tr>\n",
              "      <th>137739</th>\n",
              "      <td>arriba   baked winter squash mexican style</td>\n",
              "      <td>['winter squash', 'mexican seasoning', 'mixed ...</td>\n",
              "      <td>[51.5, 0.0, 13.0, 0.0, 2.0, 0.0, 4.0]</td>\n",
              "    </tr>\n",
              "    <tr>\n",
              "      <th>31490</th>\n",
              "      <td>a bit different  breakfast pizza</td>\n",
              "      <td>['prepared pizza crust', 'sausage patty', 'egg...</td>\n",
              "      <td>[173.4, 18.0, 0.0, 17.0, 22.0, 35.0, 1.0]</td>\n",
              "    </tr>\n",
              "    <tr>\n",
              "      <th>112140</th>\n",
              "      <td>all in the kitchen  chili</td>\n",
              "      <td>['ground beef', 'yellow onions', 'diced tomato...</td>\n",
              "      <td>[269.8, 22.0, 32.0, 48.0, 39.0, 27.0, 5.0]</td>\n",
              "    </tr>\n",
              "    <tr>\n",
              "      <th>59389</th>\n",
              "      <td>alouette  potatoes</td>\n",
              "      <td>['spreadable cheese with garlic and herbs', 'n...</td>\n",
              "      <td>[368.1, 17.0, 10.0, 2.0, 14.0, 8.0, 20.0]</td>\n",
              "    </tr>\n",
              "    <tr>\n",
              "      <th>44061</th>\n",
              "      <td>amish  tomato ketchup  for canning</td>\n",
              "      <td>['tomato juice', 'apple cider vinegar', 'sugar...</td>\n",
              "      <td>[352.9, 1.0, 337.0, 23.0, 3.0, 0.0, 28.0]</td>\n",
              "    </tr>\n",
              "  </tbody>\n",
              "</table>\n",
              "</div>"
            ],
            "text/plain": [
              "                                              name  ...                                   nutrition\n",
              "id                                                  ...                                            \n",
              "137739  arriba   baked winter squash mexican style  ...       [51.5, 0.0, 13.0, 0.0, 2.0, 0.0, 4.0]\n",
              "31490             a bit different  breakfast pizza  ...   [173.4, 18.0, 0.0, 17.0, 22.0, 35.0, 1.0]\n",
              "112140                   all in the kitchen  chili  ...  [269.8, 22.0, 32.0, 48.0, 39.0, 27.0, 5.0]\n",
              "59389                           alouette  potatoes  ...   [368.1, 17.0, 10.0, 2.0, 14.0, 8.0, 20.0]\n",
              "44061           amish  tomato ketchup  for canning  ...   [352.9, 1.0, 337.0, 23.0, 3.0, 0.0, 28.0]\n",
              "\n",
              "[5 rows x 3 columns]"
            ]
          },
          "metadata": {
            "tags": []
          },
          "execution_count": 40
        }
      ]
    },
    {
      "cell_type": "markdown",
      "metadata": {
        "id": "46rjQD1EF-wk",
        "colab_type": "text"
      },
      "source": [
        "### Recipe Nutrition"
      ]
    },
    {
      "cell_type": "code",
      "metadata": {
        "id": "AGq1riIvF-wp",
        "colab_type": "code",
        "colab": {}
      },
      "source": [
        "# preprocessing_nutrition \n",
        "df_recipes['nutrition'] = (df_recipes.nutrition\n",
        " .str.replace('[', '')\n",
        " .str.replace(']', '')\n",
        " .str.replace(\"'\", '')\n",
        " .str.replace(\",\", '')\n",
        " .str.split())"
      ],
      "execution_count": 0,
      "outputs": []
    },
    {
      "cell_type": "code",
      "metadata": {
        "id": "gnOzj43mF-wt",
        "colab_type": "code",
        "colab": {}
      },
      "source": [
        "#create new nutrition columns\n",
        "df_recipes['calories'] = df_recipes.apply(lambda row: float(row.nutrition[0]), axis=1)\n",
        "# df_recipes['carbohydrates'] = df_recipes.apply(lambda row: float(row.nutrition[2]), axis=1)"
      ],
      "execution_count": 0,
      "outputs": []
    },
    {
      "cell_type": "code",
      "metadata": {
        "id": "FxgTG80eF-w2",
        "colab_type": "code",
        "colab": {},
        "outputId": "4846816a-331e-441e-a900-7df825ca2b4b"
      },
      "source": [
        "df_recipes.head(2)"
      ],
      "execution_count": 0,
      "outputs": [
        {
          "output_type": "execute_result",
          "data": {
            "text/html": [
              "<div>\n",
              "<style scoped>\n",
              "    .dataframe tbody tr th:only-of-type {\n",
              "        vertical-align: middle;\n",
              "    }\n",
              "\n",
              "    .dataframe tbody tr th {\n",
              "        vertical-align: top;\n",
              "    }\n",
              "\n",
              "    .dataframe thead th {\n",
              "        text-align: right;\n",
              "    }\n",
              "</style>\n",
              "<table border=\"1\" class=\"dataframe\">\n",
              "  <thead>\n",
              "    <tr style=\"text-align: right;\">\n",
              "      <th></th>\n",
              "      <th>id</th>\n",
              "      <th>name</th>\n",
              "      <th>ingredients</th>\n",
              "      <th>nutrition</th>\n",
              "      <th>calories</th>\n",
              "    </tr>\n",
              "  </thead>\n",
              "  <tbody>\n",
              "    <tr>\n",
              "      <th>0</th>\n",
              "      <td>137739</td>\n",
              "      <td>arriba   baked winter squash mexican style</td>\n",
              "      <td>['winter squash', 'mexican seasoning', 'mixed ...</td>\n",
              "      <td>[51.5, 0.0, 13.0, 0.0, 2.0, 0.0, 4.0]</td>\n",
              "      <td>51.5</td>\n",
              "    </tr>\n",
              "    <tr>\n",
              "      <th>1</th>\n",
              "      <td>31490</td>\n",
              "      <td>a bit different  breakfast pizza</td>\n",
              "      <td>['prepared pizza crust', 'sausage patty', 'egg...</td>\n",
              "      <td>[173.4, 18.0, 0.0, 17.0, 22.0, 35.0, 1.0]</td>\n",
              "      <td>173.4</td>\n",
              "    </tr>\n",
              "  </tbody>\n",
              "</table>\n",
              "</div>"
            ],
            "text/plain": [
              "       id                                        name  \\\n",
              "0  137739  arriba   baked winter squash mexican style   \n",
              "1   31490            a bit different  breakfast pizza   \n",
              "\n",
              "                                         ingredients  \\\n",
              "0  ['winter squash', 'mexican seasoning', 'mixed ...   \n",
              "1  ['prepared pizza crust', 'sausage patty', 'egg...   \n",
              "\n",
              "                                   nutrition  calories  \n",
              "0      [51.5, 0.0, 13.0, 0.0, 2.0, 0.0, 4.0]      51.5  \n",
              "1  [173.4, 18.0, 0.0, 17.0, 22.0, 35.0, 1.0]     173.4  "
            ]
          },
          "metadata": {
            "tags": []
          },
          "execution_count": 12
        }
      ]
    },
    {
      "cell_type": "code",
      "metadata": {
        "id": "0cXkdQtgF-xA",
        "colab_type": "code",
        "colab": {},
        "outputId": "f0eecee0-1d2e-4da1-d727-0605d00a51f3"
      },
      "source": [
        "# some EDA\n",
        "print(f'min cals: {df_recipes.calories.min()}')\n",
        "print(f'max cals: {df_recipes.calories.max()}')"
      ],
      "execution_count": 0,
      "outputs": [
        {
          "output_type": "stream",
          "text": [
            "min cals: 0.0\n",
            "max cals: 21497.8\n"
          ],
          "name": "stdout"
        }
      ]
    },
    {
      "cell_type": "code",
      "metadata": {
        "id": "pWOZrVpAF-xJ",
        "colab_type": "code",
        "colab": {}
      },
      "source": [
        "#Vectorize categories of columns\n",
        "df_recipes['Calories_less_or_equal_to_100'] = df_recipes['calories'].apply(lambda x: 1 if x <= 100 else 0)\n",
        "df_recipes['Calories_greater_than_100'] = df_recipes['calories'].apply(lambda x: 1 if x > 100 else 0)"
      ],
      "execution_count": 0,
      "outputs": []
    },
    {
      "cell_type": "markdown",
      "metadata": {
        "id": "X0QZuRvRF-xP",
        "colab_type": "text"
      },
      "source": [
        "Categorizing carbohydrates is difficult - the nutrition information does not seem to be entered consistantly. Commenting out this code and not including it, now, but saving it for future use."
      ]
    },
    {
      "cell_type": "code",
      "metadata": {
        "id": "vJN5GyGPF-xS",
        "colab_type": "code",
        "colab": {}
      },
      "source": [
        "# # Categorizing carbohydrates\n",
        "\n",
        "# df_recipes['carbohydrates_less_or_equal_to_15'] = df_recipes['carbohydrates'].apply(lambda x: 1 if x <= 15 else 0)\n",
        "# df_recipes['carbohydrates_between_16_and_30'] = df_recipes['carbohydrates'].apply(lambda x: 1 if x > 15 and x <= 30 else 0)\n",
        "# df_recipes['carbohydrates_between_31_and_60'] = df_recipes['carbohydrates'].apply(lambda x: 1 if x > 30 and x <= 60 else 0)\n",
        "# df_recipes['carbohydrates_greater_than_60'] = df_recipes['carbohydrates'].apply(lambda x: 1 if x > 60 else 0)"
      ],
      "execution_count": 0,
      "outputs": []
    },
    {
      "cell_type": "code",
      "metadata": {
        "id": "04GQvNd7F-xg",
        "colab_type": "code",
        "colab": {},
        "outputId": "05e23ebe-ffd3-4db0-cb2c-de17e13e8daf"
      },
      "source": [
        "df_recipes.head()"
      ],
      "execution_count": 0,
      "outputs": [
        {
          "output_type": "execute_result",
          "data": {
            "text/html": [
              "<div>\n",
              "<style scoped>\n",
              "    .dataframe tbody tr th:only-of-type {\n",
              "        vertical-align: middle;\n",
              "    }\n",
              "\n",
              "    .dataframe tbody tr th {\n",
              "        vertical-align: top;\n",
              "    }\n",
              "\n",
              "    .dataframe thead th {\n",
              "        text-align: right;\n",
              "    }\n",
              "</style>\n",
              "<table border=\"1\" class=\"dataframe\">\n",
              "  <thead>\n",
              "    <tr style=\"text-align: right;\">\n",
              "      <th></th>\n",
              "      <th>id</th>\n",
              "      <th>name</th>\n",
              "      <th>ingredients</th>\n",
              "      <th>nutrition</th>\n",
              "      <th>calories</th>\n",
              "      <th>Calories_less_or_equal_to_100</th>\n",
              "      <th>Calories_greater_than_100</th>\n",
              "    </tr>\n",
              "  </thead>\n",
              "  <tbody>\n",
              "    <tr>\n",
              "      <th>0</th>\n",
              "      <td>137739</td>\n",
              "      <td>arriba   baked winter squash mexican style</td>\n",
              "      <td>['winter squash', 'mexican seasoning', 'mixed ...</td>\n",
              "      <td>[51.5, 0.0, 13.0, 0.0, 2.0, 0.0, 4.0]</td>\n",
              "      <td>51.5</td>\n",
              "      <td>1</td>\n",
              "      <td>0</td>\n",
              "    </tr>\n",
              "    <tr>\n",
              "      <th>1</th>\n",
              "      <td>31490</td>\n",
              "      <td>a bit different  breakfast pizza</td>\n",
              "      <td>['prepared pizza crust', 'sausage patty', 'egg...</td>\n",
              "      <td>[173.4, 18.0, 0.0, 17.0, 22.0, 35.0, 1.0]</td>\n",
              "      <td>173.4</td>\n",
              "      <td>0</td>\n",
              "      <td>1</td>\n",
              "    </tr>\n",
              "    <tr>\n",
              "      <th>2</th>\n",
              "      <td>112140</td>\n",
              "      <td>all in the kitchen  chili</td>\n",
              "      <td>['ground beef', 'yellow onions', 'diced tomato...</td>\n",
              "      <td>[269.8, 22.0, 32.0, 48.0, 39.0, 27.0, 5.0]</td>\n",
              "      <td>269.8</td>\n",
              "      <td>0</td>\n",
              "      <td>1</td>\n",
              "    </tr>\n",
              "    <tr>\n",
              "      <th>3</th>\n",
              "      <td>59389</td>\n",
              "      <td>alouette  potatoes</td>\n",
              "      <td>['spreadable cheese with garlic and herbs', 'n...</td>\n",
              "      <td>[368.1, 17.0, 10.0, 2.0, 14.0, 8.0, 20.0]</td>\n",
              "      <td>368.1</td>\n",
              "      <td>0</td>\n",
              "      <td>1</td>\n",
              "    </tr>\n",
              "    <tr>\n",
              "      <th>4</th>\n",
              "      <td>44061</td>\n",
              "      <td>amish  tomato ketchup  for canning</td>\n",
              "      <td>['tomato juice', 'apple cider vinegar', 'sugar...</td>\n",
              "      <td>[352.9, 1.0, 337.0, 23.0, 3.0, 0.0, 28.0]</td>\n",
              "      <td>352.9</td>\n",
              "      <td>0</td>\n",
              "      <td>1</td>\n",
              "    </tr>\n",
              "  </tbody>\n",
              "</table>\n",
              "</div>"
            ],
            "text/plain": [
              "       id                                        name  \\\n",
              "0  137739  arriba   baked winter squash mexican style   \n",
              "1   31490            a bit different  breakfast pizza   \n",
              "2  112140                   all in the kitchen  chili   \n",
              "3   59389                          alouette  potatoes   \n",
              "4   44061          amish  tomato ketchup  for canning   \n",
              "\n",
              "                                         ingredients  \\\n",
              "0  ['winter squash', 'mexican seasoning', 'mixed ...   \n",
              "1  ['prepared pizza crust', 'sausage patty', 'egg...   \n",
              "2  ['ground beef', 'yellow onions', 'diced tomato...   \n",
              "3  ['spreadable cheese with garlic and herbs', 'n...   \n",
              "4  ['tomato juice', 'apple cider vinegar', 'sugar...   \n",
              "\n",
              "                                    nutrition  calories  \\\n",
              "0       [51.5, 0.0, 13.0, 0.0, 2.0, 0.0, 4.0]      51.5   \n",
              "1   [173.4, 18.0, 0.0, 17.0, 22.0, 35.0, 1.0]     173.4   \n",
              "2  [269.8, 22.0, 32.0, 48.0, 39.0, 27.0, 5.0]     269.8   \n",
              "3   [368.1, 17.0, 10.0, 2.0, 14.0, 8.0, 20.0]     368.1   \n",
              "4   [352.9, 1.0, 337.0, 23.0, 3.0, 0.0, 28.0]     352.9   \n",
              "\n",
              "   Calories_less_or_equal_to_100  Calories_greater_than_100  \n",
              "0                              1                          0  \n",
              "1                              0                          1  \n",
              "2                              0                          1  \n",
              "3                              0                          1  \n",
              "4                              0                          1  "
            ]
          },
          "metadata": {
            "tags": []
          },
          "execution_count": 19
        }
      ]
    },
    {
      "cell_type": "code",
      "metadata": {
        "id": "LS4V6PceF-xo",
        "colab_type": "code",
        "colab": {}
      },
      "source": [
        "# clean up the df\n",
        "df_recipes = df_recipes.drop('nutrition', axis=1)"
      ],
      "execution_count": 0,
      "outputs": []
    },
    {
      "cell_type": "markdown",
      "metadata": {
        "id": "VBPjHrvpF-xv",
        "colab_type": "text"
      },
      "source": [
        "## More EDA"
      ]
    },
    {
      "cell_type": "code",
      "metadata": {
        "id": "nDwpVF7tF-xx",
        "colab_type": "code",
        "colab": {}
      },
      "source": [
        "import matplotlib.pyplot as plt"
      ],
      "execution_count": 0,
      "outputs": []
    },
    {
      "cell_type": "code",
      "metadata": {
        "id": "QM5yKRj8F-x2",
        "colab_type": "code",
        "colab": {},
        "outputId": "803dcd10-14b8-4d79-e2e6-deb9b3eac902"
      },
      "source": [
        "n_bins = 3\n",
        "fig, axs = plt.subplots(1)\n",
        "x = df_recipes.calories\n",
        "\n",
        "# We can set the number of bins with the `bins` kwarg\n",
        "axs.hist(x, bins=50)"
      ],
      "execution_count": 0,
      "outputs": [
        {
          "output_type": "execute_result",
          "data": {
            "text/plain": [
              "(array([1.218e+04, 4.534e+03, 8.690e+02, 3.090e+02, 1.420e+02, 1.030e+02,\n",
              "        9.100e+01, 6.900e+01, 5.300e+01, 4.400e+01, 2.000e+01, 1.700e+01,\n",
              "        2.600e+01, 1.500e+01, 4.000e+00, 1.200e+01, 1.200e+01, 8.000e+00,\n",
              "        5.000e+00, 2.000e+00, 1.000e+00, 4.000e+00, 1.000e+00, 1.000e+00,\n",
              "        0.000e+00, 0.000e+00, 1.000e+00, 1.000e+00, 0.000e+00, 0.000e+00,\n",
              "        0.000e+00, 1.000e+00, 1.000e+00, 0.000e+00, 0.000e+00, 0.000e+00,\n",
              "        0.000e+00, 0.000e+00, 0.000e+00, 0.000e+00, 0.000e+00, 0.000e+00,\n",
              "        0.000e+00, 1.000e+00, 0.000e+00, 0.000e+00, 0.000e+00, 0.000e+00,\n",
              "        0.000e+00, 1.000e+00]),\n",
              " array([    0.   ,   429.956,   859.912,  1289.868,  1719.824,  2149.78 ,\n",
              "         2579.736,  3009.692,  3439.648,  3869.604,  4299.56 ,  4729.516,\n",
              "         5159.472,  5589.428,  6019.384,  6449.34 ,  6879.296,  7309.252,\n",
              "         7739.208,  8169.164,  8599.12 ,  9029.076,  9459.032,  9888.988,\n",
              "        10318.944, 10748.9  , 11178.856, 11608.812, 12038.768, 12468.724,\n",
              "        12898.68 , 13328.636, 13758.592, 14188.548, 14618.504, 15048.46 ,\n",
              "        15478.416, 15908.372, 16338.328, 16768.284, 17198.24 , 17628.196,\n",
              "        18058.152, 18488.108, 18918.064, 19348.02 , 19777.976, 20207.932,\n",
              "        20637.888, 21067.844, 21497.8  ]),\n",
              " <a list of 50 Patch objects>)"
            ]
          },
          "metadata": {
            "tags": []
          },
          "execution_count": 23
        },
        {
          "output_type": "display_data",
          "data": {
            "image/png": "[encoded data removed]",
            "text/plain": [
              "<Figure size 432x288 with 1 Axes>"
            ]
          },
          "metadata": {
            "tags": [],
            "needs_background": "light"
          }
        }
      ]
    },
    {
      "cell_type": "code",
      "metadata": {
        "id": "7y5iA5rGF-x9",
        "colab_type": "code",
        "colab": {}
      },
      "source": [
        "# Later: consider dropping all recipes where calories is a large number."
      ],
      "execution_count": 0,
      "outputs": []
    },
    {
      "cell_type": "markdown",
      "metadata": {
        "id": "UjXCOf3UF-yB",
        "colab_type": "text"
      },
      "source": [
        "# Pickle subset"
      ]
    },
    {
      "cell_type": "code",
      "metadata": {
        "id": "oAS-oIskF-yE",
        "colab_type": "code",
        "colab": {}
      },
      "source": [
        "import pickle\n",
        "with open('gf_recipe_data.pkl', 'wb') as f:\n",
        "    data = pickle.dump(df_recipes, f)\n",
        "  "
      ],
      "execution_count": 0,
      "outputs": []
    },
    {
      "cell_type": "code",
      "metadata": {
        "id": "GVjHoMxHF-yN",
        "colab_type": "code",
        "colab": {}
      },
      "source": [
        ""
      ],
      "execution_count": 0,
      "outputs": []
    }
  ]
}