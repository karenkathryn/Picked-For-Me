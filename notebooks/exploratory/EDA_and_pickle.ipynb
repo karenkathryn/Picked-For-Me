{
 "cells": [
  {
   "cell_type": "markdown",
   "metadata": {
    "colab_type": "text",
    "id": "HTdWBVX4F-ug"
   },
   "source": [
    "# Notebook Narritive\n",
    "Problem: Imagine someone sitting in front on their computer... combing through pages and pages of recipes... trying to find out what to eat for supper. \n",
    "Well, look no more! If you have strong opinions about food this app is here to help. \n",
    "Enter a set of ingredients that you like, those you don’t,  and it will recommend a good recipe for you. \n",
    "\n",
    "\n",
    "Solution: Create 'Picked For Me', a content-based recommendation system for recipes based on ‘similar’ ingredients.\n",
    "\n",
    "\n",
    "Goals of this notebook:\n",
    "1.   EDA \n",
    "2. Pickling models"
   ]
  },
  {
   "cell_type": "markdown",
   "metadata": {},
   "source": [
    "## Preliminaries"
   ]
  },
  {
   "cell_type": "markdown",
   "metadata": {
    "colab_type": "text",
    "id": "XBejshcWF-un"
   },
   "source": [
    "### Import dependencies"
   ]
  },
  {
   "cell_type": "code",
   "execution_count": 1,
   "metadata": {
    "colab": {},
    "colab_type": "code",
    "id": "ABJ1M2JUF-ut"
   },
   "outputs": [],
   "source": [
    "import pandas as pd"
   ]
  },
  {
   "cell_type": "markdown",
   "metadata": {
    "colab_type": "text",
    "id": "IO64qygUF-u4"
   },
   "source": [
    "### Load file as a dataframe"
   ]
  },
  {
   "cell_type": "code",
   "execution_count": 2,
   "metadata": {
    "colab": {},
    "colab_type": "code",
    "id": "wrP4vkT0F-u6"
   },
   "outputs": [],
   "source": [
    "file = '/Users/karenwarmbein/ds/capstone/data/raw/RAW_recipes.csv'\n",
    "df = pd.read_csv(file)"
   ]
  },
  {
   "cell_type": "markdown",
   "metadata": {
    "colab_type": "text",
    "id": "s2mNvBq2F-vL"
   },
   "source": [
    "# EDA"
   ]
  },
  {
   "cell_type": "code",
   "execution_count": 3,
   "metadata": {
    "colab": {
     "base_uri": "https://localhost:8080/",
     "height": 34
    },
    "colab_type": "code",
    "id": "eSGVuQzkF-vR",
    "outputId": "ab6e5e9f-4571-467d-d90d-9d7a216752f6"
   },
   "outputs": [
    {
     "name": "stdout",
     "output_type": "stream",
     "text": [
      "There are 231637 rows (recipes) in the dataframe.\n"
     ]
    }
   ],
   "source": [
    "print(f\"There are {df.shape[0]} rows (recipes) in the dataframe.\")"
   ]
  },
  {
   "cell_type": "code",
   "execution_count": 4,
   "metadata": {
    "colab": {
     "base_uri": "https://localhost:8080/",
     "height": 136
    },
    "colab_type": "code",
    "id": "YXgXA3sCF-vb",
    "outputId": "64854f6c-b7c7-40d7-bd1f-36e11ef9d172"
   },
   "outputs": [
    {
     "name": "stdout",
     "output_type": "stream",
     "text": [
      "The columns are:\n",
      "Index(['name', 'id', 'minutes', 'contributor_id', 'submitted', 'tags',\n",
      "       'nutrition', 'n_steps', 'steps', 'description', 'ingredients',\n",
      "       'n_ingredients'],\n",
      "      dtype='object')\n",
      "\n",
      "There are 12 columns.\n"
     ]
    }
   ],
   "source": [
    "print('The columns are:') \n",
    "print(df.columns)\n",
    "print(f'\\nThere are {df.shape[1]} columns.')"
   ]
  },
  {
   "cell_type": "markdown",
   "metadata": {
    "colab_type": "text",
    "id": "Ou0h62_RF-vk"
   },
   "source": [
    "Look at a sample of the data:"
   ]
  },
  {
   "cell_type": "code",
   "execution_count": 5,
   "metadata": {
    "colab": {
     "base_uri": "https://localhost:8080/",
     "height": 468
    },
    "colab_type": "code",
    "id": "P_ys1VYDF-vs",
    "outputId": "2e6f7c80-d1d9-4dd7-af00-969c1b125d04"
   },
   "outputs": [
    {
     "data": {
      "text/html": [
       "<div>\n",
       "<style scoped>\n",
       "    .dataframe tbody tr th:only-of-type {\n",
       "        vertical-align: middle;\n",
       "    }\n",
       "\n",
       "    .dataframe tbody tr th {\n",
       "        vertical-align: top;\n",
       "    }\n",
       "\n",
       "    .dataframe thead th {\n",
       "        text-align: right;\n",
       "    }\n",
       "</style>\n",
       "<table border=\"1\" class=\"dataframe\">\n",
       "  <thead>\n",
       "    <tr style=\"text-align: right;\">\n",
       "      <th></th>\n",
       "      <th>name</th>\n",
       "      <th>id</th>\n",
       "      <th>minutes</th>\n",
       "      <th>contributor_id</th>\n",
       "      <th>submitted</th>\n",
       "      <th>tags</th>\n",
       "      <th>nutrition</th>\n",
       "      <th>n_steps</th>\n",
       "      <th>steps</th>\n",
       "      <th>description</th>\n",
       "      <th>ingredients</th>\n",
       "      <th>n_ingredients</th>\n",
       "    </tr>\n",
       "  </thead>\n",
       "  <tbody>\n",
       "    <tr>\n",
       "      <th>98717</th>\n",
       "      <td>grilled chocolate and peanut butter sandwich</td>\n",
       "      <td>114053</td>\n",
       "      <td>20</td>\n",
       "      <td>133174</td>\n",
       "      <td>2005-03-23</td>\n",
       "      <td>['30-minutes-or-less', 'time-to-make', 'course...</td>\n",
       "      <td>[342.6, 29.0, 49.0, 12.0, 21.0, 38.0, 11.0]</td>\n",
       "      <td>8</td>\n",
       "      <td>['in a shallow dish , beat together the eggs a...</td>\n",
       "      <td>okay, don't laugh until you have tried it! pur...</td>\n",
       "      <td>['eggs', 'milk', 'challah', 'semisweet chocola...</td>\n",
       "      <td>7</td>\n",
       "    </tr>\n",
       "    <tr>\n",
       "      <th>109815</th>\n",
       "      <td>hummus   my way</td>\n",
       "      <td>241506</td>\n",
       "      <td>10</td>\n",
       "      <td>289066</td>\n",
       "      <td>2007-07-19</td>\n",
       "      <td>['15-minutes-or-less', 'time-to-make', 'course...</td>\n",
       "      <td>[87.3, 4.0, 0.0, 6.0, 5.0, 3.0, 4.0]</td>\n",
       "      <td>5</td>\n",
       "      <td>['rinse and drain the garbanzo beans', 'place ...</td>\n",
       "      <td>a hummus without tahini.</td>\n",
       "      <td>['garbanzo beans', 'garlic clove', 'lemon juic...</td>\n",
       "      <td>10</td>\n",
       "    </tr>\n",
       "    <tr>\n",
       "      <th>37206</th>\n",
       "      <td>carrot apple juice</td>\n",
       "      <td>34677</td>\n",
       "      <td>10</td>\n",
       "      <td>27416</td>\n",
       "      <td>2002-07-23</td>\n",
       "      <td>['15-minutes-or-less', 'time-to-make', 'main-i...</td>\n",
       "      <td>[135.4, 0.0, 89.0, 4.0, 3.0, 0.0, 11.0]</td>\n",
       "      <td>2</td>\n",
       "      <td>['process in juicer , mix well and enjoy', 're...</td>\n",
       "      <td>a healthy juice for all to enjoy.</td>\n",
       "      <td>['carrots', 'celery ribs', 'apples', 'lemon ju...</td>\n",
       "      <td>4</td>\n",
       "    </tr>\n",
       "  </tbody>\n",
       "</table>\n",
       "</div>"
      ],
      "text/plain": [
       "                                                name      id  minutes  \\\n",
       "98717   grilled chocolate and peanut butter sandwich  114053       20   \n",
       "109815                               hummus   my way  241506       10   \n",
       "37206                             carrot apple juice   34677       10   \n",
       "\n",
       "        contributor_id   submitted  \\\n",
       "98717           133174  2005-03-23   \n",
       "109815          289066  2007-07-19   \n",
       "37206            27416  2002-07-23   \n",
       "\n",
       "                                                     tags  \\\n",
       "98717   ['30-minutes-or-less', 'time-to-make', 'course...   \n",
       "109815  ['15-minutes-or-less', 'time-to-make', 'course...   \n",
       "37206   ['15-minutes-or-less', 'time-to-make', 'main-i...   \n",
       "\n",
       "                                          nutrition  n_steps  \\\n",
       "98717   [342.6, 29.0, 49.0, 12.0, 21.0, 38.0, 11.0]        8   \n",
       "109815         [87.3, 4.0, 0.0, 6.0, 5.0, 3.0, 4.0]        5   \n",
       "37206       [135.4, 0.0, 89.0, 4.0, 3.0, 0.0, 11.0]        2   \n",
       "\n",
       "                                                    steps  \\\n",
       "98717   ['in a shallow dish , beat together the eggs a...   \n",
       "109815  ['rinse and drain the garbanzo beans', 'place ...   \n",
       "37206   ['process in juicer , mix well and enjoy', 're...   \n",
       "\n",
       "                                              description  \\\n",
       "98717   okay, don't laugh until you have tried it! pur...   \n",
       "109815                           a hummus without tahini.   \n",
       "37206                   a healthy juice for all to enjoy.   \n",
       "\n",
       "                                              ingredients  n_ingredients  \n",
       "98717   ['eggs', 'milk', 'challah', 'semisweet chocola...              7  \n",
       "109815  ['garbanzo beans', 'garlic clove', 'lemon juic...             10  \n",
       "37206   ['carrots', 'celery ribs', 'apples', 'lemon ju...              4  "
      ]
     },
     "execution_count": 5,
     "metadata": {},
     "output_type": "execute_result"
    }
   ],
   "source": [
    "df.sample(3)"
   ]
  },
  {
   "cell_type": "markdown",
   "metadata": {
    "colab_type": "text",
    "id": "zlKeMLKZF-v1"
   },
   "source": [
    "# Preparing the data"
   ]
  },
  {
   "cell_type": "code",
   "execution_count": 8,
   "metadata": {
    "colab": {},
    "colab_type": "code",
    "id": "oAS-oIskF-yE"
   },
   "outputs": [],
   "source": [
    "import pickle\n",
    "with open('/Users/karenwarmbein/ds/capstone/data/processed/recipe_data_220k.pkl', 'wb') as f:\n",
    "    data = pickle.dump(df, f)\n",
    "  "
   ]
  },
  {
   "cell_type": "code",
   "execution_count": null,
   "metadata": {},
   "outputs": [],
   "source": []
  }
 ],
 "metadata": {
  "colab": {
   "name": "capstone_work_0.2.ipynb",
   "provenance": []
  },
  "kernelspec": {
   "display_name": "Python 3 (learn-env)",
   "language": "python",
   "name": "learn-env"
  },
  "language_info": {
   "codemirror_mode": {
    "name": "ipython",
    "version": 3
   },
   "file_extension": ".py",
   "mimetype": "text/x-python",
   "name": "python",
   "nbconvert_exporter": "python",
   "pygments_lexer": "ipython3",
   "version": "3.6.6"
  }
 },
 "nbformat": 4,
 "nbformat_minor": 1
}
